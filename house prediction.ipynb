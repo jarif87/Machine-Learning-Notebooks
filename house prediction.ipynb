{
 "cells": [
  {
   "cell_type": "code",
   "execution_count": 35,
   "id": "a1aa8438-1246-4c5c-aabb-155d62b067ed",
   "metadata": {},
   "outputs": [],
   "source": [
    "import sagemaker\n",
    "import boto3\n",
    "import pandas as pd\n",
    "import numpy as np\n",
    "from sagemaker import get_execution_role\n",
    "from sagemaker.estimator import Estimator\n",
    "from sagemaker.inputs import TrainingInput\n",
    "from sagemaker.deserializers import JSONDeserializer\n",
    "\n",
    "from sagemaker.model import Model\n",
    "from sagemaker.serializers import CSVSerializer\n",
    "from sklearn.preprocessing import LabelEncoder\n",
    "import os\n"
   ]
  },
  {
   "cell_type": "markdown",
   "id": "939b07e3-00c1-44a5-881d-d1d912ae8798",
   "metadata": {},
   "source": [
    "\n",
    "# Step 1: Set up SageMaker session and role"
   ]
  },
  {
   "cell_type": "code",
   "execution_count": 3,
   "id": "715bef11-91c8-4140-9805-8d83f32bc816",
   "metadata": {},
   "outputs": [],
   "source": [
    "sagemaker_session = sagemaker.Session()\n",
    "role = get_execution_role()\n",
    "region = sagemaker_session.boto_region_name\n",
    "bucket = 'mybacket05'  # Replace with your S3 bucket name\n",
    "prefix = 'sagemaker/houseprice-project'  # Replace with your S3 folder path\n",
    "data_key = 'Housing.csv'  # Replace with your dataset file name\n",
    "data_location = f's3://{bucket}/{data_key}'"
   ]
  },
  {
   "cell_type": "code",
   "execution_count": 4,
   "id": "d2d81eed-d5f5-4ffd-a23b-3b885a01990f",
   "metadata": {},
   "outputs": [
    {
     "data": {
      "text/html": [
       "<div>\n",
       "<style scoped>\n",
       "    .dataframe tbody tr th:only-of-type {\n",
       "        vertical-align: middle;\n",
       "    }\n",
       "\n",
       "    .dataframe tbody tr th {\n",
       "        vertical-align: top;\n",
       "    }\n",
       "\n",
       "    .dataframe thead th {\n",
       "        text-align: right;\n",
       "    }\n",
       "</style>\n",
       "<table border=\"1\" class=\"dataframe\">\n",
       "  <thead>\n",
       "    <tr style=\"text-align: right;\">\n",
       "      <th></th>\n",
       "      <th>price</th>\n",
       "      <th>area</th>\n",
       "      <th>bedrooms</th>\n",
       "      <th>bathrooms</th>\n",
       "      <th>stories</th>\n",
       "      <th>mainroad</th>\n",
       "      <th>guestroom</th>\n",
       "      <th>basement</th>\n",
       "      <th>hotwaterheating</th>\n",
       "      <th>airconditioning</th>\n",
       "      <th>parking</th>\n",
       "      <th>prefarea</th>\n",
       "      <th>furnishingstatus</th>\n",
       "    </tr>\n",
       "  </thead>\n",
       "  <tbody>\n",
       "    <tr>\n",
       "      <th>0</th>\n",
       "      <td>13300000</td>\n",
       "      <td>7420</td>\n",
       "      <td>4</td>\n",
       "      <td>2</td>\n",
       "      <td>3</td>\n",
       "      <td>yes</td>\n",
       "      <td>no</td>\n",
       "      <td>no</td>\n",
       "      <td>no</td>\n",
       "      <td>yes</td>\n",
       "      <td>2</td>\n",
       "      <td>yes</td>\n",
       "      <td>furnished</td>\n",
       "    </tr>\n",
       "    <tr>\n",
       "      <th>1</th>\n",
       "      <td>12250000</td>\n",
       "      <td>8960</td>\n",
       "      <td>4</td>\n",
       "      <td>4</td>\n",
       "      <td>4</td>\n",
       "      <td>yes</td>\n",
       "      <td>no</td>\n",
       "      <td>no</td>\n",
       "      <td>no</td>\n",
       "      <td>yes</td>\n",
       "      <td>3</td>\n",
       "      <td>no</td>\n",
       "      <td>furnished</td>\n",
       "    </tr>\n",
       "    <tr>\n",
       "      <th>2</th>\n",
       "      <td>12250000</td>\n",
       "      <td>9960</td>\n",
       "      <td>3</td>\n",
       "      <td>2</td>\n",
       "      <td>2</td>\n",
       "      <td>yes</td>\n",
       "      <td>no</td>\n",
       "      <td>yes</td>\n",
       "      <td>no</td>\n",
       "      <td>no</td>\n",
       "      <td>2</td>\n",
       "      <td>yes</td>\n",
       "      <td>semi-furnished</td>\n",
       "    </tr>\n",
       "    <tr>\n",
       "      <th>3</th>\n",
       "      <td>12215000</td>\n",
       "      <td>7500</td>\n",
       "      <td>4</td>\n",
       "      <td>2</td>\n",
       "      <td>2</td>\n",
       "      <td>yes</td>\n",
       "      <td>no</td>\n",
       "      <td>yes</td>\n",
       "      <td>no</td>\n",
       "      <td>yes</td>\n",
       "      <td>3</td>\n",
       "      <td>yes</td>\n",
       "      <td>furnished</td>\n",
       "    </tr>\n",
       "    <tr>\n",
       "      <th>4</th>\n",
       "      <td>11410000</td>\n",
       "      <td>7420</td>\n",
       "      <td>4</td>\n",
       "      <td>1</td>\n",
       "      <td>2</td>\n",
       "      <td>yes</td>\n",
       "      <td>yes</td>\n",
       "      <td>yes</td>\n",
       "      <td>no</td>\n",
       "      <td>yes</td>\n",
       "      <td>2</td>\n",
       "      <td>no</td>\n",
       "      <td>furnished</td>\n",
       "    </tr>\n",
       "  </tbody>\n",
       "</table>\n",
       "</div>"
      ],
      "text/plain": [
       "      price  area  bedrooms  bathrooms  stories mainroad guestroom basement  \\\n",
       "0  13300000  7420         4          2        3      yes        no       no   \n",
       "1  12250000  8960         4          4        4      yes        no       no   \n",
       "2  12250000  9960         3          2        2      yes        no      yes   \n",
       "3  12215000  7500         4          2        2      yes        no      yes   \n",
       "4  11410000  7420         4          1        2      yes       yes      yes   \n",
       "\n",
       "  hotwaterheating airconditioning  parking prefarea furnishingstatus  \n",
       "0              no             yes        2      yes        furnished  \n",
       "1              no             yes        3       no        furnished  \n",
       "2              no              no        2      yes   semi-furnished  \n",
       "3              no             yes        3      yes        furnished  \n",
       "4              no             yes        2       no        furnished  "
      ]
     },
     "execution_count": 4,
     "metadata": {},
     "output_type": "execute_result"
    }
   ],
   "source": [
    "df=pd.read_csv(data_location)\n",
    "\n",
    "df.head()"
   ]
  },
  {
   "cell_type": "markdown",
   "id": "3c6b8639-15df-4c20-a4f0-9aad326495d0",
   "metadata": {},
   "source": [
    "# Handle categorical columns"
   ]
  },
  {
   "cell_type": "code",
   "execution_count": 8,
   "id": "0f8d4b8f-604a-4f88-aa4f-f3d82706127b",
   "metadata": {},
   "outputs": [],
   "source": [
    "categorical_cols = ['mainroad', 'guestroom', 'basement', 'hotwaterheating', 'airconditioning', 'prefarea', 'furnishingstatus']\n",
    "label_encoders = {}  # Store encoders for inference\n",
    "for col in categorical_cols:\n",
    "    df[col] = df[col].str.lower()  # Convert to lowercase for consistency\n",
    "    le = LabelEncoder()\n",
    "    df[col] = le.fit_transform(df[col])\n",
    "    label_encoders[col] = le  # Save encoder for later use"
   ]
  },
  {
   "cell_type": "code",
   "execution_count": 9,
   "id": "08bf2614-9737-4324-afcb-7be5fddce169",
   "metadata": {},
   "outputs": [
    {
     "data": {
      "text/html": [
       "<div>\n",
       "<style scoped>\n",
       "    .dataframe tbody tr th:only-of-type {\n",
       "        vertical-align: middle;\n",
       "    }\n",
       "\n",
       "    .dataframe tbody tr th {\n",
       "        vertical-align: top;\n",
       "    }\n",
       "\n",
       "    .dataframe thead th {\n",
       "        text-align: right;\n",
       "    }\n",
       "</style>\n",
       "<table border=\"1\" class=\"dataframe\">\n",
       "  <thead>\n",
       "    <tr style=\"text-align: right;\">\n",
       "      <th></th>\n",
       "      <th>price</th>\n",
       "      <th>area</th>\n",
       "      <th>bedrooms</th>\n",
       "      <th>bathrooms</th>\n",
       "      <th>stories</th>\n",
       "      <th>mainroad</th>\n",
       "      <th>guestroom</th>\n",
       "      <th>basement</th>\n",
       "      <th>hotwaterheating</th>\n",
       "      <th>airconditioning</th>\n",
       "      <th>parking</th>\n",
       "      <th>prefarea</th>\n",
       "      <th>furnishingstatus</th>\n",
       "    </tr>\n",
       "  </thead>\n",
       "  <tbody>\n",
       "    <tr>\n",
       "      <th>0</th>\n",
       "      <td>13300000</td>\n",
       "      <td>7420</td>\n",
       "      <td>4</td>\n",
       "      <td>2</td>\n",
       "      <td>3</td>\n",
       "      <td>1</td>\n",
       "      <td>0</td>\n",
       "      <td>0</td>\n",
       "      <td>0</td>\n",
       "      <td>1</td>\n",
       "      <td>2</td>\n",
       "      <td>1</td>\n",
       "      <td>0</td>\n",
       "    </tr>\n",
       "    <tr>\n",
       "      <th>1</th>\n",
       "      <td>12250000</td>\n",
       "      <td>8960</td>\n",
       "      <td>4</td>\n",
       "      <td>4</td>\n",
       "      <td>4</td>\n",
       "      <td>1</td>\n",
       "      <td>0</td>\n",
       "      <td>0</td>\n",
       "      <td>0</td>\n",
       "      <td>1</td>\n",
       "      <td>3</td>\n",
       "      <td>0</td>\n",
       "      <td>0</td>\n",
       "    </tr>\n",
       "    <tr>\n",
       "      <th>2</th>\n",
       "      <td>12250000</td>\n",
       "      <td>9960</td>\n",
       "      <td>3</td>\n",
       "      <td>2</td>\n",
       "      <td>2</td>\n",
       "      <td>1</td>\n",
       "      <td>0</td>\n",
       "      <td>1</td>\n",
       "      <td>0</td>\n",
       "      <td>0</td>\n",
       "      <td>2</td>\n",
       "      <td>1</td>\n",
       "      <td>1</td>\n",
       "    </tr>\n",
       "    <tr>\n",
       "      <th>3</th>\n",
       "      <td>12215000</td>\n",
       "      <td>7500</td>\n",
       "      <td>4</td>\n",
       "      <td>2</td>\n",
       "      <td>2</td>\n",
       "      <td>1</td>\n",
       "      <td>0</td>\n",
       "      <td>1</td>\n",
       "      <td>0</td>\n",
       "      <td>1</td>\n",
       "      <td>3</td>\n",
       "      <td>1</td>\n",
       "      <td>0</td>\n",
       "    </tr>\n",
       "    <tr>\n",
       "      <th>4</th>\n",
       "      <td>11410000</td>\n",
       "      <td>7420</td>\n",
       "      <td>4</td>\n",
       "      <td>1</td>\n",
       "      <td>2</td>\n",
       "      <td>1</td>\n",
       "      <td>1</td>\n",
       "      <td>1</td>\n",
       "      <td>0</td>\n",
       "      <td>1</td>\n",
       "      <td>2</td>\n",
       "      <td>0</td>\n",
       "      <td>0</td>\n",
       "    </tr>\n",
       "  </tbody>\n",
       "</table>\n",
       "</div>"
      ],
      "text/plain": [
       "      price  area  bedrooms  bathrooms  stories  mainroad  guestroom  \\\n",
       "0  13300000  7420         4          2        3         1          0   \n",
       "1  12250000  8960         4          4        4         1          0   \n",
       "2  12250000  9960         3          2        2         1          0   \n",
       "3  12215000  7500         4          2        2         1          0   \n",
       "4  11410000  7420         4          1        2         1          1   \n",
       "\n",
       "   basement  hotwaterheating  airconditioning  parking  prefarea  \\\n",
       "0         0                0                1        2         1   \n",
       "1         0                0                1        3         0   \n",
       "2         1                0                0        2         1   \n",
       "3         1                0                1        3         1   \n",
       "4         1                0                1        2         0   \n",
       "\n",
       "   furnishingstatus  \n",
       "0                 0  \n",
       "1                 0  \n",
       "2                 1  \n",
       "3                 0  \n",
       "4                 0  "
      ]
     },
     "execution_count": 9,
     "metadata": {},
     "output_type": "execute_result"
    }
   ],
   "source": [
    "df.head()"
   ]
  },
  {
   "cell_type": "markdown",
   "id": "8c945a9f-c6ae-4818-93dc-db648225fe54",
   "metadata": {},
   "source": [
    "# Split data: 70% train, 20% validation, 10% test"
   ]
  },
  {
   "cell_type": "code",
   "execution_count": 11,
   "id": "1202ffef-198f-4386-aba9-a6b236581615",
   "metadata": {},
   "outputs": [
    {
     "name": "stderr",
     "output_type": "stream",
     "text": [
      "/opt/conda/lib/python3.12/site-packages/numpy/core/fromnumeric.py:59: FutureWarning: 'DataFrame.swapaxes' is deprecated and will be removed in a future version. Please use 'DataFrame.transpose' instead.\n",
      "  return bound(*args, **kwds)\n"
     ]
    }
   ],
   "source": [
    "train_data, validation_data, test_data = np.split(df.sample(frac=1, random_state=42),\n",
    "    [int(0.7 * len(df)), int(0.9 * len(df))])"
   ]
  },
  {
   "cell_type": "markdown",
   "id": "96898478-c7e3-4ea3-b0b7-b5c8b119af9e",
   "metadata": {},
   "source": [
    "# Save splits to CSV (target as first column, no headers for SageMaker)"
   ]
  },
  {
   "cell_type": "code",
   "execution_count": 18,
   "id": "5925d38e-fdb7-44f9-a2d0-5f10c59a2a46",
   "metadata": {},
   "outputs": [],
   "source": [
    "train_data = pd.concat([train_data[\"price\"], train_data.drop(\"price\", axis=1)], axis=1)\n",
    "validation_data = pd.concat([validation_data[\"price\"], validation_data.drop(\"price\", axis=1)], axis=1)\n",
    "test_data = pd.concat([test_data[\"price\"], test_data.drop(\"price\", axis=1)], axis=1)"
   ]
  },
  {
   "cell_type": "markdown",
   "id": "e7e70133-b4af-4ec3-a692-dd88eb01d423",
   "metadata": {},
   "source": [
    "# Save splits to CSV (no headers for SageMaker)"
   ]
  },
  {
   "cell_type": "code",
   "execution_count": 20,
   "id": "ac9ea824-7bc6-4daf-b945-9527044c1018",
   "metadata": {},
   "outputs": [],
   "source": [
    "train_data.to_csv('train.csv', index=False, header=False)\n",
    "validation_data.to_csv('validation.csv', index=False, header=False)\n",
    "test_data.to_csv('test.csv', index=False, header=False)"
   ]
  },
  {
   "cell_type": "markdown",
   "id": "0bbccb98-933b-49a3-9f04-0a346f910e71",
   "metadata": {},
   "source": [
    "# Upload to S3"
   ]
  },
  {
   "cell_type": "code",
   "execution_count": 24,
   "id": "a1faef4e-2712-4a49-856f-33cb15a80b3f",
   "metadata": {},
   "outputs": [
    {
     "name": "stdout",
     "output_type": "stream",
     "text": [
      "Train data: s3://mybacket05/sagemaker/houseprice-project/train/train.csv\n",
      "Validation data: s3://mybacket05/sagemaker/houseprice-project/validation/validation.csv\n",
      "Test data: s3://mybacket05/sagemaker/houseprice-project/test/test.csv\n"
     ]
    }
   ],
   "source": [
    "train_location = sagemaker_session.upload_data('train.csv', bucket=bucket, key_prefix=f'{prefix}/train')\n",
    "validation_location = sagemaker_session.upload_data('validation.csv', bucket=bucket, key_prefix=f'{prefix}/validation')\n",
    "test_location = sagemaker_session.upload_data('test.csv', bucket=bucket, key_prefix=f'{prefix}/test')\n",
    "\n",
    "print(\"Train data:\", train_location)\n",
    "print(\"Validation data:\", validation_location)\n",
    "print(\"Test data:\", test_location)\n"
   ]
  },
  {
   "cell_type": "markdown",
   "id": "7179cddd-0653-44fd-9e7d-8ee10c403a30",
   "metadata": {},
   "source": [
    "\n",
    "# Step 2: Train the model (XGBoost for regression)"
   ]
  },
  {
   "cell_type": "code",
   "execution_count": 25,
   "id": "3320a30d-b994-4276-b2f1-e9fc18005fb5",
   "metadata": {},
   "outputs": [],
   "source": [
    "xgboost = Estimator(\n",
    "    image_uri=sagemaker.image_uris.retrieve('xgboost', region, 'latest'),\n",
    "    role=role,\n",
    "    instance_count=1,\n",
    "    instance_type='ml.m5.xlarge',\n",
    "    output_path=f's3://{bucket}/{prefix}/output',\n",
    "    sagemaker_session=sagemaker_session\n",
    ")\n"
   ]
  },
  {
   "cell_type": "markdown",
   "id": "a8dd9471-0176-4b90-8b5f-23a56a91e6c1",
   "metadata": {},
   "source": [
    "\n",
    "# Set hyperparameters for regression"
   ]
  },
  {
   "cell_type": "code",
   "execution_count": 32,
   "id": "bceb00ca-94e0-4baa-b19c-c7dd03a07283",
   "metadata": {},
   "outputs": [],
   "source": [
    "xgboost.set_hyperparameters(\n",
    "    objective='reg:linear',  # For regression\n",
    "    num_round=100,\n",
    "    max_depth=5,\n",
    "    eta=0.3,\n",
    "    subsample=0.8\n",
    ")\n"
   ]
  },
  {
   "cell_type": "markdown",
   "id": "50d87109-534f-40d0-b868-7fe447920f9e",
   "metadata": {},
   "source": [
    "# Define input channels"
   ]
  },
  {
   "cell_type": "code",
   "execution_count": 29,
   "id": "c760c4e8-9b8a-4261-b6ef-00c94989acdc",
   "metadata": {},
   "outputs": [],
   "source": [
    "train_input = TrainingInput(s3_data=train_location, content_type='csv')\n",
    "validation_input = TrainingInput(s3_data=validation_location, content_type='csv')"
   ]
  },
  {
   "cell_type": "markdown",
   "id": "9665bba2-f3a3-4235-ba5d-fdd84da05191",
   "metadata": {},
   "source": [
    "# Train the model"
   ]
  },
  {
   "cell_type": "code",
   "execution_count": 33,
   "id": "9f156564-4b94-483f-b7a9-63255ee880cc",
   "metadata": {},
   "outputs": [
    {
     "name": "stderr",
     "output_type": "stream",
     "text": [
      "INFO:sagemaker.telemetry.telemetry_logging:SageMaker Python SDK will collect telemetry to help us better understand our user's needs, diagnose issues, and deliver additional features.\n",
      "To opt out of telemetry, please disable via TelemetryOptOut parameter in SDK defaults config. For more information, refer to https://sagemaker.readthedocs.io/en/stable/overview.html#configuring-and-using-defaults-with-the-sagemaker-python-sdk.\n",
      "INFO:sagemaker:Creating training-job with name: xgboost-2025-06-05-13-59-33-938\n"
     ]
    },
    {
     "name": "stdout",
     "output_type": "stream",
     "text": [
      "2025-06-05 13:59:37 Starting - Starting the training job...\n",
      "2025-06-05 14:00:01 Starting - Preparing the instances for training...\n",
      "2025-06-05 14:00:27 Downloading - Downloading input data...\n",
      "2025-06-05 14:00:52 Downloading - Downloading the training image...\n",
      "2025-06-05 14:01:33 Training - Training image download completed. Training in progress..\u001b[34mArguments: train\u001b[0m\n",
      "\u001b[34m[2025-06-05:14:01:40:INFO] Running standalone xgboost training.\u001b[0m\n",
      "\u001b[34m[2025-06-05:14:01:40:INFO] File size need to be processed in the node: 0.02mb. Available memory size in the node: 8065.79mb\u001b[0m\n",
      "\u001b[34m[2025-06-05:14:01:40:INFO] Determined delimiter of CSV input is ','\u001b[0m\n",
      "\u001b[34m[14:01:40] S3DistributionType set as FullyReplicated\u001b[0m\n",
      "\u001b[34m[14:01:40] 381x12 matrix with 4572 entries loaded from /opt/ml/input/data/train?format=csv&label_column=0&delimiter=,\u001b[0m\n",
      "\u001b[34m[2025-06-05:14:01:40:INFO] Determined delimiter of CSV input is ','\u001b[0m\n",
      "\u001b[34m[14:01:40] S3DistributionType set as FullyReplicated\u001b[0m\n",
      "\u001b[34m[14:01:40] 109x12 matrix with 1308 entries loaded from /opt/ml/input/data/validation?format=csv&label_column=0&delimiter=,\u001b[0m\n",
      "\u001b[34m[14:01:40] src/tree/updater_prune.cc:74: tree pruning end, 1 roots, 10 extra nodes, 0 pruned nodes, max_depth=3\u001b[0m\n",
      "\u001b[34m[0]#011train-rmse:3.7678e+06#011validation-rmse:3.79612e+06\u001b[0m\n",
      "\u001b[34m[14:01:40] src/tree/updater_prune.cc:74: tree pruning end, 1 roots, 22 extra nodes, 0 pruned nodes, max_depth=4\u001b[0m\n",
      "\u001b[34m[1]#011train-rmse:2.78805e+06#011validation-rmse:2.94135e+06\u001b[0m\n",
      "\u001b[34m[14:01:40] src/tree/updater_prune.cc:74: tree pruning end, 1 roots, 32 extra nodes, 0 pruned nodes, max_depth=5\u001b[0m\n",
      "\u001b[34m[2]#011train-rmse:2.10423e+06#011validation-rmse:2.28633e+06\u001b[0m\n",
      "\u001b[34m[14:01:40] src/tree/updater_prune.cc:74: tree pruning end, 1 roots, 42 extra nodes, 0 pruned nodes, max_depth=5\u001b[0m\n",
      "\u001b[34m[3]#011train-rmse:1.64259e+06#011validation-rmse:1.87781e+06\u001b[0m\n",
      "\u001b[34m[14:01:40] src/tree/updater_prune.cc:74: tree pruning end, 1 roots, 42 extra nodes, 0 pruned nodes, max_depth=5\u001b[0m\n",
      "\u001b[34m[4]#011train-rmse:1.33366e+06#011validation-rmse:1.5945e+06\u001b[0m\n",
      "\u001b[34m[14:01:40] src/tree/updater_prune.cc:74: tree pruning end, 1 roots, 50 extra nodes, 0 pruned nodes, max_depth=5\u001b[0m\n",
      "\u001b[34m[5]#011train-rmse:1.12207e+06#011validation-rmse:1.41915e+06\u001b[0m\n",
      "\u001b[34m[14:01:40] src/tree/updater_prune.cc:74: tree pruning end, 1 roots, 42 extra nodes, 0 pruned nodes, max_depth=5\u001b[0m\n",
      "\u001b[34m[6]#011train-rmse:964677#011validation-rmse:1.2861e+06\u001b[0m\n",
      "\u001b[34m[14:01:40] src/tree/updater_prune.cc:74: tree pruning end, 1 roots, 54 extra nodes, 0 pruned nodes, max_depth=5\u001b[0m\n",
      "\u001b[34m[7]#011train-rmse:850862#011validation-rmse:1.21878e+06\u001b[0m\n",
      "\u001b[34m[14:01:40] src/tree/updater_prune.cc:74: tree pruning end, 1 roots, 46 extra nodes, 0 pruned nodes, max_depth=5\u001b[0m\n",
      "\u001b[34m[8]#011train-rmse:771866#011validation-rmse:1.1891e+06\u001b[0m\n",
      "\u001b[34m[14:01:40] src/tree/updater_prune.cc:74: tree pruning end, 1 roots, 52 extra nodes, 0 pruned nodes, max_depth=5\u001b[0m\n",
      "\u001b[34m[9]#011train-rmse:725769#011validation-rmse:1.16373e+06\u001b[0m\n",
      "\u001b[34m[14:01:40] src/tree/updater_prune.cc:74: tree pruning end, 1 roots, 38 extra nodes, 0 pruned nodes, max_depth=5\u001b[0m\n",
      "\u001b[34m[10]#011train-rmse:693760#011validation-rmse:1.16792e+06\u001b[0m\n",
      "\u001b[34m[14:01:40] src/tree/updater_prune.cc:74: tree pruning end, 1 roots, 50 extra nodes, 0 pruned nodes, max_depth=5\u001b[0m\n",
      "\u001b[34m[11]#011train-rmse:654106#011validation-rmse:1.16498e+06\u001b[0m\n",
      "\u001b[34m[14:01:40] src/tree/updater_prune.cc:74: tree pruning end, 1 roots, 36 extra nodes, 0 pruned nodes, max_depth=5\u001b[0m\n",
      "\u001b[34m[12]#011train-rmse:635279#011validation-rmse:1.16925e+06\u001b[0m\n",
      "\u001b[34m[14:01:40] src/tree/updater_prune.cc:74: tree pruning end, 1 roots, 28 extra nodes, 0 pruned nodes, max_depth=5\u001b[0m\n",
      "\u001b[34m[13]#011train-rmse:626509#011validation-rmse:1.17271e+06\u001b[0m\n",
      "\u001b[34m[14:01:40] src/tree/updater_prune.cc:74: tree pruning end, 1 roots, 46 extra nodes, 0 pruned nodes, max_depth=5\u001b[0m\n",
      "\u001b[34m[14]#011train-rmse:614556#011validation-rmse:1.18095e+06\u001b[0m\n",
      "\u001b[34m[14:01:40] src/tree/updater_prune.cc:74: tree pruning end, 1 roots, 42 extra nodes, 0 pruned nodes, max_depth=5\u001b[0m\n",
      "\u001b[34m[15]#011train-rmse:605225#011validation-rmse:1.19536e+06\u001b[0m\n",
      "\u001b[34m[14:01:40] src/tree/updater_prune.cc:74: tree pruning end, 1 roots, 46 extra nodes, 0 pruned nodes, max_depth=5\u001b[0m\n",
      "\u001b[34m[16]#011train-rmse:580113#011validation-rmse:1.19773e+06\u001b[0m\n",
      "\u001b[34m[14:01:40] src/tree/updater_prune.cc:74: tree pruning end, 1 roots, 46 extra nodes, 0 pruned nodes, max_depth=5\u001b[0m\n",
      "\u001b[34m[17]#011train-rmse:566106#011validation-rmse:1.19605e+06\u001b[0m\n",
      "\u001b[34m[14:01:40] src/tree/updater_prune.cc:74: tree pruning end, 1 roots, 54 extra nodes, 0 pruned nodes, max_depth=5\u001b[0m\n",
      "\u001b[34m[18]#011train-rmse:545854#011validation-rmse:1.19807e+06\u001b[0m\n",
      "\u001b[34m[14:01:40] src/tree/updater_prune.cc:74: tree pruning end, 1 roots, 52 extra nodes, 0 pruned nodes, max_depth=5\u001b[0m\n",
      "\u001b[34m[19]#011train-rmse:526445#011validation-rmse:1.19009e+06\u001b[0m\n",
      "\u001b[34m[14:01:40] src/tree/updater_prune.cc:74: tree pruning end, 1 roots, 56 extra nodes, 0 pruned nodes, max_depth=5\u001b[0m\n",
      "\u001b[34m[20]#011train-rmse:504193#011validation-rmse:1.19801e+06\u001b[0m\n",
      "\u001b[34m[14:01:40] src/tree/updater_prune.cc:74: tree pruning end, 1 roots, 38 extra nodes, 0 pruned nodes, max_depth=5\u001b[0m\n",
      "\u001b[34m[21]#011train-rmse:493045#011validation-rmse:1.19466e+06\u001b[0m\n",
      "\u001b[34m[14:01:40] src/tree/updater_prune.cc:74: tree pruning end, 1 roots, 32 extra nodes, 0 pruned nodes, max_depth=5\u001b[0m\n",
      "\u001b[34m[22]#011train-rmse:486098#011validation-rmse:1.19179e+06\u001b[0m\n",
      "\u001b[34m[14:01:40] src/tree/updater_prune.cc:74: tree pruning end, 1 roots, 52 extra nodes, 0 pruned nodes, max_depth=5\u001b[0m\n",
      "\u001b[34m[23]#011train-rmse:472318#011validation-rmse:1.19612e+06\u001b[0m\n",
      "\u001b[34m[14:01:40] src/tree/updater_prune.cc:74: tree pruning end, 1 roots, 60 extra nodes, 0 pruned nodes, max_depth=5\u001b[0m\n",
      "\u001b[34m[24]#011train-rmse:449432#011validation-rmse:1.19301e+06\u001b[0m\n",
      "\u001b[34m[14:01:40] src/tree/updater_prune.cc:74: tree pruning end, 1 roots, 34 extra nodes, 0 pruned nodes, max_depth=5\u001b[0m\n",
      "\u001b[34m[25]#011train-rmse:440341#011validation-rmse:1.1953e+06\u001b[0m\n",
      "\u001b[34m[14:01:40] src/tree/updater_prune.cc:74: tree pruning end, 1 roots, 52 extra nodes, 0 pruned nodes, max_depth=5\u001b[0m\n",
      "\u001b[34m[26]#011train-rmse:425450#011validation-rmse:1.19429e+06\u001b[0m\n",
      "\u001b[34m[14:01:40] src/tree/updater_prune.cc:74: tree pruning end, 1 roots, 42 extra nodes, 0 pruned nodes, max_depth=5\u001b[0m\n",
      "\u001b[34m[27]#011train-rmse:414433#011validation-rmse:1.19424e+06\u001b[0m\n",
      "\u001b[34m[14:01:40] src/tree/updater_prune.cc:74: tree pruning end, 1 roots, 44 extra nodes, 0 pruned nodes, max_depth=5\u001b[0m\n",
      "\u001b[34m[28]#011train-rmse:406513#011validation-rmse:1.19664e+06\u001b[0m\n",
      "\u001b[34m[14:01:40] src/tree/updater_prune.cc:74: tree pruning end, 1 roots, 60 extra nodes, 0 pruned nodes, max_depth=5\u001b[0m\n",
      "\u001b[34m[29]#011train-rmse:395475#011validation-rmse:1.19477e+06\u001b[0m\n",
      "\u001b[34m[14:01:40] src/tree/updater_prune.cc:74: tree pruning end, 1 roots, 46 extra nodes, 0 pruned nodes, max_depth=5\u001b[0m\n",
      "\u001b[34m[30]#011train-rmse:390614#011validation-rmse:1.1937e+06\u001b[0m\n",
      "\u001b[34m[14:01:40] src/tree/updater_prune.cc:74: tree pruning end, 1 roots, 34 extra nodes, 0 pruned nodes, max_depth=5\u001b[0m\n",
      "\u001b[34m[31]#011train-rmse:386381#011validation-rmse:1.19997e+06\u001b[0m\n",
      "\u001b[34m[14:01:40] src/tree/updater_prune.cc:74: tree pruning end, 1 roots, 44 extra nodes, 0 pruned nodes, max_depth=5\u001b[0m\n",
      "\u001b[34m[32]#011train-rmse:381929#011validation-rmse:1.20486e+06\u001b[0m\n",
      "\u001b[34m[14:01:40] src/tree/updater_prune.cc:74: tree pruning end, 1 roots, 52 extra nodes, 0 pruned nodes, max_depth=5\u001b[0m\n",
      "\u001b[34m[33]#011train-rmse:371406#011validation-rmse:1.21039e+06\u001b[0m\n",
      "\u001b[34m[14:01:40] src/tree/updater_prune.cc:74: tree pruning end, 1 roots, 54 extra nodes, 0 pruned nodes, max_depth=5\u001b[0m\n",
      "\u001b[34m[34]#011train-rmse:364931#011validation-rmse:1.20735e+06\u001b[0m\n",
      "\u001b[34m[14:01:40] src/tree/updater_prune.cc:74: tree pruning end, 1 roots, 48 extra nodes, 0 pruned nodes, max_depth=5\u001b[0m\n",
      "\u001b[34m[35]#011train-rmse:352317#011validation-rmse:1.21249e+06\u001b[0m\n",
      "\u001b[34m[14:01:40] src/tree/updater_prune.cc:74: tree pruning end, 1 roots, 58 extra nodes, 0 pruned nodes, max_depth=5\u001b[0m\n",
      "\u001b[34m[36]#011train-rmse:340216#011validation-rmse:1.21361e+06\u001b[0m\n",
      "\u001b[34m[14:01:40] src/tree/updater_prune.cc:74: tree pruning end, 1 roots, 30 extra nodes, 0 pruned nodes, max_depth=5\u001b[0m\n",
      "\u001b[34m[37]#011train-rmse:337316#011validation-rmse:1.2125e+06\u001b[0m\n",
      "\u001b[34m[14:01:40] src/tree/updater_prune.cc:74: tree pruning end, 1 roots, 52 extra nodes, 0 pruned nodes, max_depth=5\u001b[0m\n",
      "\u001b[34m[38]#011train-rmse:329279#011validation-rmse:1.21346e+06\u001b[0m\n",
      "\u001b[34m[14:01:40] src/tree/updater_prune.cc:74: tree pruning end, 1 roots, 44 extra nodes, 0 pruned nodes, max_depth=5\u001b[0m\n",
      "\u001b[34m[39]#011train-rmse:325754#011validation-rmse:1.21155e+06\u001b[0m\n",
      "\u001b[34m[14:01:40] src/tree/updater_prune.cc:74: tree pruning end, 1 roots, 28 extra nodes, 0 pruned nodes, max_depth=5\u001b[0m\n",
      "\u001b[34m[40]#011train-rmse:321670#011validation-rmse:1.21610e+06\u001b[0m\n",
      "\u001b[34m[14:01:40] src/tree/updater_prune.cc:74: tree pruning end, 1 roots, 44 extra nodes, 0 pruned nodes, max_depth=5\u001b[0m\n",
      "\u001b[34m[41]#011train-rmse:315249#011validation-rmse:1.22392e+06\u001b[0m\n",
      "\u001b[34m[14:01:40] src/tree/updater_prune.cc:74: tree pruning end, 1 roots, 48 extra nodes, 0 pruned nodes, max_depth=5\u001b[0m\n",
      "\u001b[34m[42]#011train-rmse:311470#011validation-rmse:1.21953e+06\u001b[0m\n",
      "\u001b[34m[14:01:40] src/tree/updater_prune.cc:74: tree pruning end, 1 roots, 42 extra nodes, 0 pruned nodes, max_depth=5\u001b[0m\n",
      "\u001b[34m[43]#011train-rmse:305239#011validation-rmse:1.22209e+06\u001b[0m\n",
      "\u001b[34m[14:01:40] src/tree/updater_prune.cc:74: tree pruning end, 1 roots, 36 extra nodes, 0 pruned nodes, max_depth=5\u001b[0m\n",
      "\u001b[34m[44]#011train-rmse:302460#011validation-rmse:1.21933e+06\u001b[0m\n",
      "\u001b[34m[14:01:40] src/tree/updater_prune.cc:74: tree pruning end, 1 roots, 44 extra nodes, 0 pruned nodes, max_depth=5\u001b[0m\n",
      "\u001b[34m[45]#011train-rmse:297613#011validation-rmse:1.22198e+06\u001b[0m\n",
      "\u001b[34m[14:01:40] src/tree/updater_prune.cc:74: tree pruning end, 1 roots, 46 extra nodes, 0 pruned nodes, max_depth=5\u001b[0m\n",
      "\u001b[34m[46]#011train-rmse:291362#011validation-rmse:1.22635e+06\u001b[0m\n",
      "\u001b[34m[14:01:40] src/tree/updater_prune.cc:74: tree pruning end, 1 roots, 34 extra nodes, 0 pruned nodes, max_depth=5\u001b[0m\n",
      "\u001b[34m[47]#011train-rmse:288854#011validation-rmse:1.22545e+06\u001b[0m\n",
      "\u001b[34m[14:01:40] src/tree/updater_prune.cc:74: tree pruning end, 1 roots, 44 extra nodes, 0 pruned nodes, max_depth=5\u001b[0m\n",
      "\u001b[34m[48]#011train-rmse:284085#011validation-rmse:1.22832e+06\u001b[0m\n",
      "\u001b[34m[14:01:40] src/tree/updater_prune.cc:74: tree pruning end, 1 roots, 46 extra nodes, 0 pruned nodes, max_depth=5\u001b[0m\n",
      "\u001b[34m[49]#011train-rmse:280098#011validation-rmse:1.229e+06\u001b[0m\n",
      "\u001b[34m[14:01:40] src/tree/updater_prune.cc:74: tree pruning end, 1 roots, 56 extra nodes, 0 pruned nodes, max_depth=5\u001b[0m\n",
      "\u001b[34m[50]#011train-rmse:274038#011validation-rmse:1.23705e+06\u001b[0m\n",
      "\u001b[34m[14:01:40] src/tree/updater_prune.cc:74: tree pruning end, 1 roots, 44 extra nodes, 0 pruned nodes, max_depth=5\u001b[0m\n",
      "\u001b[34m[51]#011train-rmse:270148#011validation-rmse:1.23915e+06\u001b[0m\n",
      "\u001b[34m[14:01:40] src/tree/updater_prune.cc:74: tree pruning end, 1 roots, 54 extra nodes, 0 pruned nodes, max_depth=5\u001b[0m\n",
      "\u001b[34m[52]#011train-rmse:265490#011validation-rmse:1.24348e+06\u001b[0m\n",
      "\u001b[34m[14:01:40] src/tree/updater_prune.cc:74: tree pruning end, 1 roots, 56 extra nodes, 0 pruned nodes, max_depth=5\u001b[0m\n",
      "\u001b[34m[53]#011train-rmse:259330#011validation-rmse:1.24154e+06\u001b[0m\n",
      "\u001b[34m[14:01:40] src/tree/updater_prune.cc:74: tree pruning end, 1 roots, 46 extra nodes, 0 pruned nodes, max_depth=5\u001b[0m\n",
      "\u001b[34m[54]#011train-rmse:254714#011validation-rmse:1.24345e+06\u001b[0m\n",
      "\u001b[34m[14:01:40] src/tree/updater_prune.cc:74: tree pruning end, 1 roots, 30 extra nodes, 0 pruned nodes, max_depth=5\u001b[0m\n",
      "\u001b[34m[55]#011train-rmse:250164#011validation-rmse:1.24477e+06\u001b[0m\n",
      "\u001b[34m[14:01:40] src/tree/updater_prune.cc:74: tree pruning end, 1 roots, 56 extra nodes, 0 pruned nodes, max_depth=5\u001b[0m\n",
      "\u001b[34m[56]#011train-rmse:245179#011validation-rmse:1.24841e+06\u001b[0m\n",
      "\u001b[34m[14:01:40] src/tree/updater_prune.cc:74: tree pruning end, 1 roots, 50 extra nodes, 0 pruned nodes, max_depth=5\u001b[0m\n",
      "\u001b[34m[57]#011train-rmse:241327#011validation-rmse:1.24837e+06\u001b[0m\n",
      "\u001b[34m[14:01:40] src/tree/updater_prune.cc:74: tree pruning end, 1 roots, 48 extra nodes, 0 pruned nodes, max_depth=5\u001b[0m\n",
      "\u001b[34m[58]#011train-rmse:235264#011validation-rmse:1.24796e+06\u001b[0m\n",
      "\u001b[34m[14:01:40] src/tree/updater_prune.cc:74: tree pruning end, 1 roots, 56 extra nodes, 0 pruned nodes, max_depth=5\u001b[0m\n",
      "\u001b[34m[59]#011train-rmse:228421#011validation-rmse:1.25168e+06\u001b[0m\n",
      "\u001b[34m[14:01:40] src/tree/updater_prune.cc:74: tree pruning end, 1 roots, 42 extra nodes, 0 pruned nodes, max_depth=5\u001b[0m\n",
      "\u001b[34m[60]#011train-rmse:226454#011validation-rmse:1.25417e+06\u001b[0m\n",
      "\u001b[34m[14:01:40] src/tree/updater_prune.cc:74: tree pruning end, 1 roots, 36 extra nodes, 0 pruned nodes, max_depth=5\u001b[0m\n",
      "\u001b[34m[61]#011train-rmse:224109#011validation-rmse:1.25266e+06\u001b[0m\n",
      "\u001b[34m[14:01:40] src/tree/updater_prune.cc:74: tree pruning end, 1 roots, 60 extra nodes, 0 pruned nodes, max_depth=5\u001b[0m\n",
      "\u001b[34m[62]#011train-rmse:216355#011validation-rmse:1.25216e+06\u001b[0m\n",
      "\u001b[34m[14:01:40] src/tree/updater_prune.cc:74: tree pruning end, 1 roots, 46 extra nodes, 0 pruned nodes, max_depth=5\u001b[0m\n",
      "\u001b[34m[63]#011train-rmse:213653#011validation-rmse:1.24963e+06\u001b[0m\n",
      "\u001b[34m[14:01:40] src/tree/updater_prune.cc:74: tree pruning end, 1 roots, 26 extra nodes, 0 pruned nodes, max_depth=5\u001b[0m\n",
      "\u001b[34m[64]#011train-rmse:212818#011validation-rmse:1.2497e+06\u001b[0m\n",
      "\u001b[34m[14:01:40] src/tree/updater_prune.cc:74: tree pruning end, 1 roots, 38 extra nodes, 0 pruned nodes, max_depth=5\u001b[0m\n",
      "\u001b[34m[65]#011train-rmse:210016#011validation-rmse:1.25155e+06\u001b[0m\n",
      "\u001b[34m[14:01:40] src/tree/updater_prune.cc:74: tree pruning end, 1 roots, 56 extra nodes, 0 pruned nodes, max_depth=5\u001b[0m\n",
      "\u001b[34m[66]#011train-rmse:206108#011validation-rmse:1.24911e+06\u001b[0m\n",
      "\u001b[34m[14:01:40] src/tree/updater_prune.cc:74: tree pruning end, 1 roots, 42 extra nodes, 0 pruned nodes, max_depth=5\u001b[0m\n",
      "\u001b[34m[67]#011train-rmse:204084#011validation-rmse:1.24985e+06\u001b[0m\n",
      "\u001b[34m[14:01:40] src/tree/updater_prune.cc:74: tree pruning end, 1 roots, 58 extra nodes, 0 pruned nodes, max_depth=5\u001b[0m\n",
      "\u001b[34m[68]#011train-rmse:200630#011validation-rmse:1.24945e+06\u001b[0m\n",
      "\u001b[34m[14:01:40] src/tree/updater_prune.cc:74: tree pruning end, 1 roots, 42 extra nodes, 0 pruned nodes, max_depth=5\u001b[0m\n",
      "\u001b[34m[69]#011train-rmse:197728#011validation-rmse:1.25263e+06\u001b[0m\n",
      "\u001b[34m[14:01:40] src/tree/updater_prune.cc:74: tree pruning end, 1 roots, 46 extra nodes, 0 pruned nodes, max_depth=5\u001b[0m\n",
      "\u001b[34m[70]#011train-rmse:193846#011validation-rmse:1.25202e+06\u001b[0m\n",
      "\u001b[34m[14:01:40] src/tree/updater_prune.cc:74: tree pruning end, 1 roots, 44 extra nodes, 0 pruned nodes, max_depth=5\u001b[0m\n",
      "\u001b[34m[71]#011train-rmse:191510#011validation-rmse:1.25235e+06\u001b[0m\n",
      "\u001b[34m[14:01:40] src/tree/updater_prune.cc:74: tree pruning end, 1 roots, 54 extra nodes, 0 pruned nodes, max_depth=5\u001b[0m\n",
      "\u001b[34m[72]#011train-rmse:189240#011validation-rmse:1.25353e+06\u001b[0m\n",
      "\u001b[34m[14:01:40] src/tree/updater_prune.cc:74: tree pruning end, 1 roots, 38 extra nodes, 0 pruned nodes, max_depth=5\u001b[0m\n",
      "\u001b[34m[73]#011train-rmse:186506#011validation-rmse:1.25589e+06\u001b[0m\n",
      "\u001b[34m[14:01:40] src/tree/updater_prune.cc:74: tree pruning end, 1 roots, 54 extra nodes, 0 pruned nodes, max_depth=5\u001b[0m\n",
      "\u001b[34m[74]#011train-rmse:183381#011validation-rmse:1.25755e+06\u001b[0m\n",
      "\u001b[34m[14:01:40] src/tree/updater_prune.cc:74: tree pruning end, 1 roots, 50 extra nodes, 0 pruned nodes, max_depth=5\u001b[0m\n",
      "\u001b[34m[75]#011train-rmse:180547#011validation-rmse:1.25926e+06\u001b[0m\n",
      "\u001b[34m[14:01:40] src/tree/updater_prune.cc:74: tree pruning end, 1 roots, 52 extra nodes, 0 pruned nodes, max_depth=5\u001b[0m\n",
      "\u001b[34m[76]#011train-rmse:177484#011validation-rmse:1.26143e+06\u001b[0m\n",
      "\u001b[34m[14:01:40] src/tree/updater_prune.cc:74: tree pruning end, 1 roots, 52 extra nodes, 0 pruned nodes, max_depth=5\u001b[0m\n",
      "\u001b[34m[77]#011train-rmse:175160#011validation-rmse:1.26406e+06\u001b[0m\n",
      "\u001b[34m[14:01:40] src/tree/updater_prune.cc:74: tree pruning end, 1 roots, 54 extra nodes, 0 pruned nodes, max_depth=5\u001b[0m\n",
      "\u001b[34m[78]#011train-rmse:172377#011validation-rmse:1.26291e+06\u001b[0m\n",
      "\u001b[34m[14:01:40] src/tree/updater_prune.cc:74: tree pruning end, 1 roots, 60 extra nodes, 0 pruned nodes, max_depth=5\u001b[0m\n",
      "\u001b[34m[79]#011train-rmse:170728#011validation-rmse:1.263e+06\u001b[0m\n",
      "\u001b[34m[14:01:40] src/tree/updater_prune.cc:74: tree pruning end, 1 roots, 60 extra nodes, 0 pruned nodes, max_depth=5\u001b[0m\n",
      "\u001b[34m[80]#011train-rmse:166331#011validation-rmse:1.26259e+06\u001b[0m\n",
      "\u001b[34m[14:01:40] src/tree/updater_prune.cc:74: tree pruning end, 1 roots, 46 extra nodes, 0 pruned nodes, max_depth=5\u001b[0m\n",
      "\u001b[34m[81]#011train-rmse:164839#011validation-rmse:1.26222e+06\u001b[0m\n",
      "\u001b[34m[14:01:40] src/tree/updater_prune.cc:74: tree pruning end, 1 roots, 52 extra nodes, 0 pruned nodes, max_depth=5\u001b[0m\n",
      "\u001b[34m[82]#011train-rmse:162084#011validation-rmse:1.26408e+06\u001b[0m\n",
      "\u001b[34m[14:01:40] src/tree/updater_prune.cc:74: tree pruning end, 1 roots, 52 extra nodes, 0 pruned nodes, max_depth=5\u001b[0m\n",
      "\u001b[34m[83]#011train-rmse:159354#011validation-rmse:1.26677e+06\u001b[0m\n",
      "\u001b[34m[14:01:40] src/tree/updater_prune.cc:74: tree pruning end, 1 roots, 52 extra nodes, 0 pruned nodes, max_depth=5\u001b[0m\n",
      "\u001b[34m[84]#011train-rmse:156759#011validation-rmse:1.26889e+06\u001b[0m\n",
      "\u001b[34m[14:01:40] src/tree/updater_prune.cc:74: tree pruning end, 1 roots, 50 extra nodes, 0 pruned nodes, max_depth=5\u001b[0m\n",
      "\u001b[34m[85]#011train-rmse:154842#011validation-rmse:1.26987e+06\u001b[0m\n",
      "\u001b[34m[14:01:40] src/tree/updater_prune.cc:74: tree pruning end, 1 roots, 62 extra nodes, 0 pruned nodes, max_depth=5\u001b[0m\n",
      "\u001b[34m[86]#011train-rmse:150835#011validation-rmse:1.27307e+06\u001b[0m\n",
      "\u001b[34m[14:01:40] src/tree/updater_prune.cc:74: tree pruning end, 1 roots, 60 extra nodes, 0 pruned nodes, max_depth=5\u001b[0m\n",
      "\u001b[34m[87]#011train-rmse:148776#011validation-rmse:1.27344e+06\u001b[0m\n",
      "\u001b[34m[14:01:40] src/tree/updater_prune.cc:74: tree pruning end, 1 roots, 48 extra nodes, 0 pruned nodes, max_depth=5\u001b[0m\n",
      "\u001b[34m[88]#011train-rmse:146836#011validation-rmse:1.27349e+06\u001b[0m\n",
      "\u001b[34m[14:01:40] src/tree/updater_prune.cc:74: tree pruning end, 1 roots, 34 extra nodes, 0 pruned nodes, max_depth=5\u001b[0m\n",
      "\u001b[34m[89]#011train-rmse:145149#011validation-rmse:1.27514e+06\u001b[0m\n",
      "\u001b[34m[14:01:40] src/tree/updater_prune.cc:74: tree pruning end, 1 roots, 48 extra nodes, 0 pruned nodes, max_depth=5\u001b[0m\n",
      "\u001b[34m[90]#011train-rmse:144024#011validation-rmse:1.27807e+06\u001b[0m\n",
      "\u001b[34m[14:01:40] src/tree/updater_prune.cc:74: tree pruning end, 1 roots, 50 extra nodes, 0 pruned nodes, max_depth=5\u001b[0m\n",
      "\u001b[34m[91]#011train-rmse:142426#011validation-rmse:1.28004e+06\u001b[0m\n",
      "\u001b[34m[14:01:40] src/tree/updater_prune.cc:74: tree pruning end, 1 roots, 40 extra nodes, 0 pruned nodes, max_depth=5\u001b[0m\n",
      "\u001b[34m[92]#011train-rmse:141503#011validation-rmse:1.27859e+06\u001b[0m\n",
      "\u001b[34m[14:01:40] src/tree/updater_prune.cc:74: tree pruning end, 1 roots, 42 extra nodes, 0 pruned nodes, max_depth=5\u001b[0m\n",
      "\u001b[34m[93]#011train-rmse:139699#011validation-rmse:1.27939e+06\u001b[0m\n",
      "\u001b[34m[14:01:40] src/tree/updater_prune.cc:74: tree pruning end, 1 roots, 48 extra nodes, 0 pruned nodes, max_depth=5\u001b[0m\n",
      "\u001b[34m[94]#011train-rmse:137549#011validation-rmse:1.28029e+06\u001b[0m\n",
      "\u001b[34m[14:01:40] src/tree/updater_prune.cc:74: tree pruning end, 1 roots, 56 extra nodes, 0 pruned nodes, max_depth=5\u001b[0m\n",
      "\u001b[34m[95]#011train-rmse:134150#011validation-rmse:1.28053e+06\u001b[0m\n",
      "\u001b[34m[14:01:40] src/tree/updater_prune.cc:74: tree pruning end, 1 roots, 40 extra nodes, 0 pruned nodes, max_depth=5\u001b[0m\n",
      "\u001b[34m[96]#011train-rmse:133503#011validation-rmse:1.27991e+06\u001b[0m\n",
      "\u001b[34m[14:01:40] src/tree/updater_prune.cc:74: tree pruning end, 1 roots, 60 extra nodes, 0 pruned nodes, max_depth=5\u001b[0m\n",
      "\u001b[34m[97]#011train-rmse:131194#011validation-rmse:1.27849e+06\u001b[0m\n",
      "\u001b[34m[14:01:40] src/tree/updater_prune.cc:74: tree pruning end, 1 roots, 46 extra nodes, 0 pruned nodes, max_depth=5\u001b[0m\n",
      "\u001b[34m[98]#011train-rmse:130030#011validation-rmse:1.28132e+06\u001b[0m\n",
      "\u001b[34m[14:01:40] src/tree/updater_prune.cc:74: tree pruning end, 1 roots, 56 extra nodes, 0 pruned nodes, max_depth=5\u001b[0m\n",
      "\u001b[34m[99]#011train-rmse:128914#011validation-rmse:1.28246e+06\u001b[0m\n",
      "\n",
      "2025-06-05 14:02:01 Uploading - Uploading generated training model\n",
      "2025-06-05 14:02:01 Completed - Training job completed\n",
      "Training seconds: 95\n",
      "Billable seconds: 95\n"
     ]
    }
   ],
   "source": [
    "xgboost.fit({'train': train_input, 'validation': validation_input})"
   ]
  },
  {
   "cell_type": "markdown",
   "id": "12ef6b03-77b3-4326-ada1-b807a6524166",
   "metadata": {},
   "source": [
    "# Step 3: Deploy for real-time inference"
   ]
  },
  {
   "cell_type": "code",
   "execution_count": 37,
   "id": "ba508c2f-b700-47c3-997a-b2c856b91b85",
   "metadata": {},
   "outputs": [
    {
     "name": "stderr",
     "output_type": "stream",
     "text": [
      "INFO:sagemaker:Creating model with name: xgboost-2025-06-05-14-06-11-970\n",
      "INFO:sagemaker:Creating endpoint-config with name xgboost-2025-06-05-14-06-11-970\n",
      "INFO:sagemaker:Creating endpoint with name xgboost-2025-06-05-14-06-11-970\n"
     ]
    },
    {
     "name": "stdout",
     "output_type": "stream",
     "text": [
      "------------!"
     ]
    }
   ],
   "source": [
    "predictor=xgboost.deploy(initial_instance_count=1,instance_type=\"ml.t2.medium\",\n",
    "                        serializer=CSVSerializer(),\n",
    "                        deserializer=JSONDeserializer())"
   ]
  },
  {
   "cell_type": "markdown",
   "id": "7210ada2-4523-47f3-853c-c9193e54ce77",
   "metadata": {},
   "source": [
    "# Test real-time inference"
   ]
  },
  {
   "cell_type": "code",
   "execution_count": 42,
   "id": "e8b7d313-98a1-494d-b905-7ba47dcdeda3",
   "metadata": {},
   "outputs": [
    {
     "name": "stdout",
     "output_type": "stream",
     "text": [
      "Real-Time Predictions: [3738832.75]\n"
     ]
    }
   ],
   "source": [
    "from sagemaker.deserializers import CSVDeserializer\n",
    "\n",
    "# Reconfigure predictor with CSVDeserializer\n",
    "predictor.deserializer = CSVDeserializer()\n",
    "\n",
    "# Test real-time inference\n",
    "test_sample = test_data.drop('price', axis=1).copy()\n",
    "\n",
    "# Apply LabelEncoder to categorical columns if they are still strings\n",
    "for col in categorical_cols:\n",
    "    if test_sample[col].dtype == object:\n",
    "        test_sample[col] = label_encoders[col].transform(test_sample[col])\n",
    "\n",
    "# Select first two rows and convert to CSV string\n",
    "test_sample = test_sample.iloc[0:2]  # Use iloc to keep as DataFrame\n",
    "test_sample_csv = test_sample.to_csv(index=False, header=False)\n",
    "\n",
    "# Make prediction\n",
    "try:\n",
    "    predictions = predictor.predict(test_sample_csv)\n",
    "    # CSVDeserializer returns a list of lists; extract first column for regression\n",
    "    predictions = [float(pred[0]) for pred in predictions]\n",
    "    print(\"Real-Time Predictions:\", predictions)\n",
    "except Exception as e:\n",
    "    print(f\"Error during prediction: {e}\")\n",
    "    # Fallback: Handle raw response\n",
    "    response = sagemaker_session.sagemaker_runtime_client.invoke_endpoint(\n",
    "        EndpointName=predictor.endpoint_name,\n",
    "        ContentType='text/csv',\n",
    "        Accept='text/csv',\n",
    "        Body=test_sample_csv\n",
    "    )\n",
    "    raw_predictions = response['Body'].read().decode('utf-8')\n",
    "    # Parse comma-separated predictions\n",
    "    predictions = [float(pred) for pred in raw_predictions.strip().split(',')]\n",
    "    print(\"Raw Predictions (CSV fallback):\", predictions)"
   ]
  },
  {
   "cell_type": "markdown",
   "id": "0fe72ca2-bb1e-4f74-baeb-0a11a5947074",
   "metadata": {},
   "source": [
    "# Step 4 (Optional): Batch inference"
   ]
  },
  {
   "cell_type": "code",
   "execution_count": 47,
   "id": "a046ac81-0a02-4d7e-b9ae-f326b609b4b2",
   "metadata": {},
   "outputs": [
    {
     "name": "stderr",
     "output_type": "stream",
     "text": [
      "INFO:sagemaker:Creating model with name: xgboost-2025-06-05-14-22-37-369\n",
      "INFO:sagemaker:Creating transform job with name: xgboost-2025-06-05-14-22-38-179\n"
     ]
    },
    {
     "name": "stdout",
     "output_type": "stream",
     "text": [
      "Batch transform error: An error occurred (ResourceLimitExceeded) when calling the CreateTransformJob operation: The account-level service limit 'ml.m5.large for transform job usage' is 0 Instances, with current utilization of 0 Instances and a request delta of 1 Instances. Please use AWS Service Quotas to request an increase for this quota. If AWS Service Quotas is not available, contact AWS support to request an increase for this quota.\n",
      "Ensure the instance type is supported and within your quota. Check quotas in AWS Service Quotas console.\n"
     ]
    }
   ],
   "source": [
    "# Step 4: Batch inference\n",
    "test_data_no_target = test_data.drop('price', axis=1).copy()\n",
    "for col in categorical_cols:\n",
    "    if test_data_no_target[col].dtype == object:\n",
    "        test_data_no_target[col] = label_encoders[col].transform(test_data_no_target[col])\n",
    "test_data_no_target.to_csv('test_no_target.csv', index=False, header=False)\n",
    "test_no_target_location = sagemaker_session.upload_data('test_no_target.csv', bucket=bucket, key_prefix=f'{prefix}/test')\n",
    "\n",
    "transformer = xgboost.transformer(\n",
    "    instance_count=1,\n",
    "    instance_type='ml.m5.large',  # Use supported instance type\n",
    "    output_path=f's3://{bucket}/{prefix}/batch_output'\n",
    ")\n",
    "try:\n",
    "    transformer.transform(\n",
    "        data=test_no_target_location,\n",
    "        content_type='text/csv',\n",
    "        split_type='Line'\n",
    "    )\n",
    "    transformer.wait()\n",
    "    print(\"Batch predictions saved to:\", transformer.output_path)\n",
    "except Exception as e:\n",
    "    print(f\"Batch transform error: {e}\")\n",
    "    print(\"Ensure the instance type is supported and within your quota. Check quotas in AWS Service Quotas console.\")"
   ]
  },
  {
   "cell_type": "code",
   "execution_count": 50,
   "id": "bb401b28-4182-4aee-9da7-7b97abf85262",
   "metadata": {},
   "outputs": [
    {
     "name": "stdout",
     "output_type": "stream",
     "text": [
      "No transform job quotas found. Check AWS Service Quotas console or request a quota increase.\n"
     ]
    }
   ],
   "source": [
    "import boto3\n",
    "\n",
    "# Initialize Service Quotas client\n",
    "try:\n",
    "    client = boto3.client('service-quotas', region_name=region)\n",
    "    # Get SageMaker quotas\n",
    "    response = client.list_service_quotas(ServiceCode='sagemaker')\n",
    "    transform_quotas = [\n",
    "        quota for quota in response['Quotas']\n",
    "        if 'for transform job usage' in quota['QuotaName'].lower()\n",
    "    ]\n",
    "    if transform_quotas:\n",
    "        print(\"Available Transform Job Quotas:\")\n",
    "        for quota in transform_quotas:\n",
    "            print(f\"Instance Type: {quota['QuotaName']}, Quota: {quota['Value']}\")\n",
    "    else:\n",
    "        print(\"No transform job quotas found. Check AWS Service Quotas console or request a quota increase.\")\n",
    "except client.exceptions.AccessDeniedException:\n",
    "    print(\"Error: IAM role lacks 'servicequotas:GetServiceQuota' permission. Add this permission to your role.\")\n",
    "    print(\"IAM Policy Example:\")\n",
    "    print(\"\"\"\n",
    "    {\n",
    "        \"Effect\": \"Allow\",\n",
    "        \"Action\": [\"servicequotas:GetServiceQuota\"],\n",
    "        \"Resource\": \"*\"\n",
    "    }\n",
    "    \"\"\")\n",
    "except Exception as e:\n",
    "    print(f\"Error fetching quotas: {e}\")\n",
    "    print(\"Manually check quotas in AWS Service Quotas console under 'Amazon SageMaker'.\")"
   ]
  },
  {
   "cell_type": "code",
   "execution_count": null,
   "id": "73849e95-d1e9-462c-b811-18927d9c8d2e",
   "metadata": {},
   "outputs": [],
   "source": []
  },
  {
   "cell_type": "code",
   "execution_count": null,
   "id": "834e8e80-393a-4967-b5e7-43f7da4a21f9",
   "metadata": {},
   "outputs": [],
   "source": []
  }
 ],
 "metadata": {
  "kernelspec": {
   "display_name": "Python 3 (ipykernel)",
   "language": "python",
   "name": "python3"
  },
  "language_info": {
   "codemirror_mode": {
    "name": "ipython",
    "version": 3
   },
   "file_extension": ".py",
   "mimetype": "text/x-python",
   "name": "python",
   "nbconvert_exporter": "python",
   "pygments_lexer": "ipython3",
   "version": "3.12.9"
  }
 },
 "nbformat": 4,
 "nbformat_minor": 5
}
