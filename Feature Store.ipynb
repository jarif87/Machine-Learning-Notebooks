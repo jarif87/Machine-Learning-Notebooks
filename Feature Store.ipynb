{
 "cells": [
  {
   "cell_type": "code",
   "execution_count": 86,
   "id": "d335cc34-0ba0-4dd9-9754-40606ca666e7",
   "metadata": {},
   "outputs": [],
   "source": [
    "import sagemaker\n",
    "import boto3\n",
    "import sys\n",
    "import pandas as pd\n",
    "import numpy as np \n",
    "import io \n",
    "from sagemaker.session import Session\n",
    "from sagemaker import get_execution_role\n",
    "from time import gmtime,strftime,sleep\n",
    "from sagemaker.feature_store.feature_group import FeatureGroup\n"
   ]
  },
  {
   "cell_type": "code",
   "execution_count": 87,
   "id": "e495bd33-f1bc-40c0-a228-7eda135dfd50",
   "metadata": {},
   "outputs": [],
   "source": [
    "prefix=\"feature_store_aws\"\n",
    "role=get_execution_role()\n",
    "sagemaker_session=Session() \n",
    "region=sagemaker_session.boto_region_name\n",
    "s3_bucket_name=\"mybacket05\""
   ]
  },
  {
   "cell_type": "code",
   "execution_count": 88,
   "id": "a01316f0-68e3-4952-a830-3a3b58c04f95",
   "metadata": {},
   "outputs": [
    {
     "name": "stdout",
     "output_type": "stream",
     "text": [
      "Region is : us-east-1\n",
      "Role is : arn:aws:iam::640168443051:role/service-role/AmazonSageMaker-ExecutionRole-20250523T211400\n"
     ]
    }
   ],
   "source": [
    "print(f\"Region is : {region}\")\n",
    "print(f\"Role is : {role}\")"
   ]
  },
  {
   "cell_type": "code",
   "execution_count": 89,
   "id": "94236c7c-609e-44ea-83d6-1d52e27fe28f",
   "metadata": {},
   "outputs": [],
   "source": [
    "customer_data=pd.read_csv(\"customers.csv\")\n",
    "orders_data=pd.read_csv(\"orders.csv\")"
   ]
  },
  {
   "cell_type": "code",
   "execution_count": 90,
   "id": "d5f51057-40da-4dab-a34b-63bf6747976f",
   "metadata": {},
   "outputs": [
    {
     "data": {
      "text/html": [
       "<div>\n",
       "<style scoped>\n",
       "    .dataframe tbody tr th:only-of-type {\n",
       "        vertical-align: middle;\n",
       "    }\n",
       "\n",
       "    .dataframe tbody tr th {\n",
       "        vertical-align: top;\n",
       "    }\n",
       "\n",
       "    .dataframe thead th {\n",
       "        text-align: right;\n",
       "    }\n",
       "</style>\n",
       "<table border=\"1\" class=\"dataframe\">\n",
       "  <thead>\n",
       "    <tr style=\"text-align: right;\">\n",
       "      <th></th>\n",
       "      <th>Unnamed: 0</th>\n",
       "      <th>customer_id</th>\n",
       "      <th>sex</th>\n",
       "      <th>is_married</th>\n",
       "      <th>event_time</th>\n",
       "      <th>age_18-29</th>\n",
       "      <th>age_30-39</th>\n",
       "      <th>age_40-49</th>\n",
       "      <th>age_50-59</th>\n",
       "      <th>age_60-69</th>\n",
       "      <th>age_70-plus</th>\n",
       "      <th>n_days_active</th>\n",
       "    </tr>\n",
       "  </thead>\n",
       "  <tbody>\n",
       "    <tr>\n",
       "      <th>0</th>\n",
       "      <td>0</td>\n",
       "      <td>C1</td>\n",
       "      <td>0</td>\n",
       "      <td>1</td>\n",
       "      <td>2024-05-02T05:39:10.965Z</td>\n",
       "      <td>0</td>\n",
       "      <td>0</td>\n",
       "      <td>0</td>\n",
       "      <td>0</td>\n",
       "      <td>0</td>\n",
       "      <td>1</td>\n",
       "      <td>0.203425</td>\n",
       "    </tr>\n",
       "    <tr>\n",
       "      <th>1</th>\n",
       "      <td>1</td>\n",
       "      <td>C2</td>\n",
       "      <td>1</td>\n",
       "      <td>1</td>\n",
       "      <td>2024-05-02T05:39:10.966Z</td>\n",
       "      <td>0</td>\n",
       "      <td>0</td>\n",
       "      <td>0</td>\n",
       "      <td>0</td>\n",
       "      <td>0</td>\n",
       "      <td>1</td>\n",
       "      <td>0.859589</td>\n",
       "    </tr>\n",
       "    <tr>\n",
       "      <th>2</th>\n",
       "      <td>2</td>\n",
       "      <td>C3</td>\n",
       "      <td>1</td>\n",
       "      <td>1</td>\n",
       "      <td>2024-05-02T05:39:10.967Z</td>\n",
       "      <td>0</td>\n",
       "      <td>1</td>\n",
       "      <td>0</td>\n",
       "      <td>0</td>\n",
       "      <td>0</td>\n",
       "      <td>0</td>\n",
       "      <td>0.527397</td>\n",
       "    </tr>\n",
       "    <tr>\n",
       "      <th>3</th>\n",
       "      <td>3</td>\n",
       "      <td>C4</td>\n",
       "      <td>1</td>\n",
       "      <td>0</td>\n",
       "      <td>2024-05-02T05:39:10.967Z</td>\n",
       "      <td>0</td>\n",
       "      <td>0</td>\n",
       "      <td>0</td>\n",
       "      <td>0</td>\n",
       "      <td>1</td>\n",
       "      <td>0</td>\n",
       "      <td>0.780822</td>\n",
       "    </tr>\n",
       "    <tr>\n",
       "      <th>4</th>\n",
       "      <td>4</td>\n",
       "      <td>C5</td>\n",
       "      <td>1</td>\n",
       "      <td>0</td>\n",
       "      <td>2024-05-02T05:39:10.968Z</td>\n",
       "      <td>0</td>\n",
       "      <td>0</td>\n",
       "      <td>0</td>\n",
       "      <td>0</td>\n",
       "      <td>1</td>\n",
       "      <td>0</td>\n",
       "      <td>0.691096</td>\n",
       "    </tr>\n",
       "  </tbody>\n",
       "</table>\n",
       "</div>"
      ],
      "text/plain": [
       "   Unnamed: 0 customer_id  sex  is_married                event_time  \\\n",
       "0           0          C1    0           1  2024-05-02T05:39:10.965Z   \n",
       "1           1          C2    1           1  2024-05-02T05:39:10.966Z   \n",
       "2           2          C3    1           1  2024-05-02T05:39:10.967Z   \n",
       "3           3          C4    1           0  2024-05-02T05:39:10.967Z   \n",
       "4           4          C5    1           0  2024-05-02T05:39:10.968Z   \n",
       "\n",
       "   age_18-29  age_30-39  age_40-49  age_50-59  age_60-69  age_70-plus  \\\n",
       "0          0          0          0          0          0            1   \n",
       "1          0          0          0          0          0            1   \n",
       "2          0          1          0          0          0            0   \n",
       "3          0          0          0          0          1            0   \n",
       "4          0          0          0          0          1            0   \n",
       "\n",
       "   n_days_active  \n",
       "0       0.203425  \n",
       "1       0.859589  \n",
       "2       0.527397  \n",
       "3       0.780822  \n",
       "4       0.691096  "
      ]
     },
     "execution_count": 90,
     "metadata": {},
     "output_type": "execute_result"
    }
   ],
   "source": [
    "customer_data.head()"
   ]
  },
  {
   "cell_type": "code",
   "execution_count": 91,
   "id": "e7d3c353-cc8a-4c3d-83d0-77c16cedf3fb",
   "metadata": {},
   "outputs": [],
   "source": [
    "customer_data.drop(columns=[\"Unnamed: 0\"],axis=1,inplace=True)"
   ]
  },
  {
   "cell_type": "code",
   "execution_count": 92,
   "id": "82e72ba2-9b48-4ff5-be42-233f380034fd",
   "metadata": {},
   "outputs": [
    {
     "data": {
      "text/html": [
       "<div>\n",
       "<style scoped>\n",
       "    .dataframe tbody tr th:only-of-type {\n",
       "        vertical-align: middle;\n",
       "    }\n",
       "\n",
       "    .dataframe tbody tr th {\n",
       "        vertical-align: top;\n",
       "    }\n",
       "\n",
       "    .dataframe thead th {\n",
       "        text-align: right;\n",
       "    }\n",
       "</style>\n",
       "<table border=\"1\" class=\"dataframe\">\n",
       "  <thead>\n",
       "    <tr style=\"text-align: right;\">\n",
       "      <th></th>\n",
       "      <th>customer_id</th>\n",
       "      <th>sex</th>\n",
       "      <th>is_married</th>\n",
       "      <th>event_time</th>\n",
       "      <th>age_18-29</th>\n",
       "      <th>age_30-39</th>\n",
       "      <th>age_40-49</th>\n",
       "      <th>age_50-59</th>\n",
       "      <th>age_60-69</th>\n",
       "      <th>age_70-plus</th>\n",
       "      <th>n_days_active</th>\n",
       "    </tr>\n",
       "  </thead>\n",
       "  <tbody>\n",
       "    <tr>\n",
       "      <th>0</th>\n",
       "      <td>C1</td>\n",
       "      <td>0</td>\n",
       "      <td>1</td>\n",
       "      <td>2024-05-02T05:39:10.965Z</td>\n",
       "      <td>0</td>\n",
       "      <td>0</td>\n",
       "      <td>0</td>\n",
       "      <td>0</td>\n",
       "      <td>0</td>\n",
       "      <td>1</td>\n",
       "      <td>0.203425</td>\n",
       "    </tr>\n",
       "    <tr>\n",
       "      <th>1</th>\n",
       "      <td>C2</td>\n",
       "      <td>1</td>\n",
       "      <td>1</td>\n",
       "      <td>2024-05-02T05:39:10.966Z</td>\n",
       "      <td>0</td>\n",
       "      <td>0</td>\n",
       "      <td>0</td>\n",
       "      <td>0</td>\n",
       "      <td>0</td>\n",
       "      <td>1</td>\n",
       "      <td>0.859589</td>\n",
       "    </tr>\n",
       "    <tr>\n",
       "      <th>2</th>\n",
       "      <td>C3</td>\n",
       "      <td>1</td>\n",
       "      <td>1</td>\n",
       "      <td>2024-05-02T05:39:10.967Z</td>\n",
       "      <td>0</td>\n",
       "      <td>1</td>\n",
       "      <td>0</td>\n",
       "      <td>0</td>\n",
       "      <td>0</td>\n",
       "      <td>0</td>\n",
       "      <td>0.527397</td>\n",
       "    </tr>\n",
       "    <tr>\n",
       "      <th>3</th>\n",
       "      <td>C4</td>\n",
       "      <td>1</td>\n",
       "      <td>0</td>\n",
       "      <td>2024-05-02T05:39:10.967Z</td>\n",
       "      <td>0</td>\n",
       "      <td>0</td>\n",
       "      <td>0</td>\n",
       "      <td>0</td>\n",
       "      <td>1</td>\n",
       "      <td>0</td>\n",
       "      <td>0.780822</td>\n",
       "    </tr>\n",
       "    <tr>\n",
       "      <th>4</th>\n",
       "      <td>C5</td>\n",
       "      <td>1</td>\n",
       "      <td>0</td>\n",
       "      <td>2024-05-02T05:39:10.968Z</td>\n",
       "      <td>0</td>\n",
       "      <td>0</td>\n",
       "      <td>0</td>\n",
       "      <td>0</td>\n",
       "      <td>1</td>\n",
       "      <td>0</td>\n",
       "      <td>0.691096</td>\n",
       "    </tr>\n",
       "  </tbody>\n",
       "</table>\n",
       "</div>"
      ],
      "text/plain": [
       "  customer_id  sex  is_married                event_time  age_18-29  \\\n",
       "0          C1    0           1  2024-05-02T05:39:10.965Z          0   \n",
       "1          C2    1           1  2024-05-02T05:39:10.966Z          0   \n",
       "2          C3    1           1  2024-05-02T05:39:10.967Z          0   \n",
       "3          C4    1           0  2024-05-02T05:39:10.967Z          0   \n",
       "4          C5    1           0  2024-05-02T05:39:10.968Z          0   \n",
       "\n",
       "   age_30-39  age_40-49  age_50-59  age_60-69  age_70-plus  n_days_active  \n",
       "0          0          0          0          0            1       0.203425  \n",
       "1          0          0          0          0            1       0.859589  \n",
       "2          1          0          0          0            0       0.527397  \n",
       "3          0          0          0          1            0       0.780822  \n",
       "4          0          0          0          1            0       0.691096  "
      ]
     },
     "execution_count": 92,
     "metadata": {},
     "output_type": "execute_result"
    }
   ],
   "source": [
    "customer_data.head()"
   ]
  },
  {
   "cell_type": "code",
   "execution_count": 93,
   "id": "9e20c932-48be-4578-bf8b-e0e2a037b074",
   "metadata": {},
   "outputs": [
    {
     "data": {
      "text/html": [
       "<div>\n",
       "<style scoped>\n",
       "    .dataframe tbody tr th:only-of-type {\n",
       "        vertical-align: middle;\n",
       "    }\n",
       "\n",
       "    .dataframe tbody tr th {\n",
       "        vertical-align: top;\n",
       "    }\n",
       "\n",
       "    .dataframe thead th {\n",
       "        text-align: right;\n",
       "    }\n",
       "</style>\n",
       "<table border=\"1\" class=\"dataframe\">\n",
       "  <thead>\n",
       "    <tr style=\"text-align: right;\">\n",
       "      <th></th>\n",
       "      <th>order_id</th>\n",
       "      <th>customer_id</th>\n",
       "      <th>product_id</th>\n",
       "      <th>purchase_amount</th>\n",
       "      <th>is_reordered</th>\n",
       "      <th>event_time</th>\n",
       "      <th>n_days_since_last_purchase</th>\n",
       "    </tr>\n",
       "  </thead>\n",
       "  <tbody>\n",
       "    <tr>\n",
       "      <th>0</th>\n",
       "      <td>O1</td>\n",
       "      <td>C9765</td>\n",
       "      <td>P11660</td>\n",
       "      <td>0.572673</td>\n",
       "      <td>0</td>\n",
       "      <td>2024-05-02T05:39:17.172Z</td>\n",
       "      <td>0.273256</td>\n",
       "    </tr>\n",
       "    <tr>\n",
       "      <th>1</th>\n",
       "      <td>O2</td>\n",
       "      <td>C3674</td>\n",
       "      <td>P6868</td>\n",
       "      <td>0.693861</td>\n",
       "      <td>0</td>\n",
       "      <td>2024-05-02T05:39:17.172Z</td>\n",
       "      <td>0.846899</td>\n",
       "    </tr>\n",
       "    <tr>\n",
       "      <th>2</th>\n",
       "      <td>O3</td>\n",
       "      <td>C2139</td>\n",
       "      <td>P4749</td>\n",
       "      <td>0.556139</td>\n",
       "      <td>1</td>\n",
       "      <td>2024-05-02T05:39:17.172Z</td>\n",
       "      <td>0.408915</td>\n",
       "    </tr>\n",
       "    <tr>\n",
       "      <th>3</th>\n",
       "      <td>O4</td>\n",
       "      <td>C7794</td>\n",
       "      <td>P542</td>\n",
       "      <td>0.043069</td>\n",
       "      <td>1</td>\n",
       "      <td>2024-05-02T05:39:17.172Z</td>\n",
       "      <td>0.843023</td>\n",
       "    </tr>\n",
       "    <tr>\n",
       "      <th>4</th>\n",
       "      <td>O5</td>\n",
       "      <td>C2229</td>\n",
       "      <td>P7605</td>\n",
       "      <td>0.463861</td>\n",
       "      <td>1</td>\n",
       "      <td>2024-05-02T05:39:17.172Z</td>\n",
       "      <td>0.265504</td>\n",
       "    </tr>\n",
       "  </tbody>\n",
       "</table>\n",
       "</div>"
      ],
      "text/plain": [
       "  order_id customer_id product_id  purchase_amount  is_reordered  \\\n",
       "0       O1       C9765     P11660         0.572673             0   \n",
       "1       O2       C3674      P6868         0.693861             0   \n",
       "2       O3       C2139      P4749         0.556139             1   \n",
       "3       O4       C7794       P542         0.043069             1   \n",
       "4       O5       C2229      P7605         0.463861             1   \n",
       "\n",
       "                 event_time  n_days_since_last_purchase  \n",
       "0  2024-05-02T05:39:17.172Z                    0.273256  \n",
       "1  2024-05-02T05:39:17.172Z                    0.846899  \n",
       "2  2024-05-02T05:39:17.172Z                    0.408915  \n",
       "3  2024-05-02T05:39:17.172Z                    0.843023  \n",
       "4  2024-05-02T05:39:17.172Z                    0.265504  "
      ]
     },
     "execution_count": 93,
     "metadata": {},
     "output_type": "execute_result"
    }
   ],
   "source": [
    "orders_data.head()"
   ]
  },
  {
   "cell_type": "markdown",
   "id": "930436cd-cfe1-4fde-8a7f-caa7950cab45",
   "metadata": {},
   "source": [
    "# Create feature group"
   ]
  },
  {
   "cell_type": "code",
   "execution_count": 94,
   "id": "cd51fb89-2e98-46db-b3de-0a0f0bad66dd",
   "metadata": {},
   "outputs": [],
   "source": [
    "customers_feature_group_name = \"customers-fg-\"+strftime(\"%d-%H-%M-%S\", gmtime()) \n",
    "orders_feature_group_name = \"orders-fg-\"+strftime(\"%d-%H-%M-%S\", gmtime()) "
   ]
  },
  {
   "cell_type": "code",
   "execution_count": 95,
   "id": "fb72282f-cb58-41df-b023-a1cf2dfe6f40",
   "metadata": {},
   "outputs": [],
   "source": [
    "customer_feature_group=FeatureGroup(name=customers_feature_group_name,\n",
    "                                   sagemaker_session=sagemaker_session)\n",
    "order_feature_group=FeatureGroup(name=orders_feature_group_name,sagemaker_session=sagemaker_session)"
   ]
  },
  {
   "cell_type": "code",
   "execution_count": 96,
   "id": "9a886a59-36d4-4d33-9b70-c02649efc29c",
   "metadata": {},
   "outputs": [],
   "source": [
    "record_identifier_feature_name = \"customer_id\""
   ]
  },
  {
   "cell_type": "markdown",
   "id": "f153d78e-ce9d-45b3-9fbb-c2bf607f0e2b",
   "metadata": {},
   "source": [
    "# Load Feature definitions"
   ]
  },
  {
   "cell_type": "code",
   "execution_count": 97,
   "id": "a15769ba-28a1-4eef-bdb2-89836df915dc",
   "metadata": {},
   "outputs": [
    {
     "data": {
      "text/plain": [
       "[FeatureDefinition(feature_name='customer_id', feature_type=<FeatureTypeEnum.STRING: 'String'>, collection_type=None),\n",
       " FeatureDefinition(feature_name='sex', feature_type=<FeatureTypeEnum.INTEGRAL: 'Integral'>, collection_type=None),\n",
       " FeatureDefinition(feature_name='is_married', feature_type=<FeatureTypeEnum.INTEGRAL: 'Integral'>, collection_type=None),\n",
       " FeatureDefinition(feature_name='event_time', feature_type=<FeatureTypeEnum.STRING: 'String'>, collection_type=None),\n",
       " FeatureDefinition(feature_name='age_18-29', feature_type=<FeatureTypeEnum.INTEGRAL: 'Integral'>, collection_type=None),\n",
       " FeatureDefinition(feature_name='age_30-39', feature_type=<FeatureTypeEnum.INTEGRAL: 'Integral'>, collection_type=None),\n",
       " FeatureDefinition(feature_name='age_40-49', feature_type=<FeatureTypeEnum.INTEGRAL: 'Integral'>, collection_type=None),\n",
       " FeatureDefinition(feature_name='age_50-59', feature_type=<FeatureTypeEnum.INTEGRAL: 'Integral'>, collection_type=None),\n",
       " FeatureDefinition(feature_name='age_60-69', feature_type=<FeatureTypeEnum.INTEGRAL: 'Integral'>, collection_type=None),\n",
       " FeatureDefinition(feature_name='age_70-plus', feature_type=<FeatureTypeEnum.INTEGRAL: 'Integral'>, collection_type=None),\n",
       " FeatureDefinition(feature_name='n_days_active', feature_type=<FeatureTypeEnum.FRACTIONAL: 'Fractional'>, collection_type=None)]"
      ]
     },
     "execution_count": 97,
     "metadata": {},
     "output_type": "execute_result"
    }
   ],
   "source": [
    "customer_feature_group.load_feature_definitions(data_frame = customer_data)"
   ]
  },
  {
   "cell_type": "markdown",
   "id": "c315d172-4e20-4d1b-8f8b-9eaacdbc7f42",
   "metadata": {},
   "source": [
    "# Load Feature definitions"
   ]
  },
  {
   "cell_type": "code",
   "execution_count": 98,
   "id": "99878d22-02ce-4b05-9ab1-78027b99b6f5",
   "metadata": {},
   "outputs": [
    {
     "data": {
      "text/plain": [
       "[FeatureDefinition(feature_name='order_id', feature_type=<FeatureTypeEnum.STRING: 'String'>, collection_type=None),\n",
       " FeatureDefinition(feature_name='customer_id', feature_type=<FeatureTypeEnum.STRING: 'String'>, collection_type=None),\n",
       " FeatureDefinition(feature_name='product_id', feature_type=<FeatureTypeEnum.STRING: 'String'>, collection_type=None),\n",
       " FeatureDefinition(feature_name='purchase_amount', feature_type=<FeatureTypeEnum.FRACTIONAL: 'Fractional'>, collection_type=None),\n",
       " FeatureDefinition(feature_name='is_reordered', feature_type=<FeatureTypeEnum.INTEGRAL: 'Integral'>, collection_type=None),\n",
       " FeatureDefinition(feature_name='event_time', feature_type=<FeatureTypeEnum.STRING: 'String'>, collection_type=None),\n",
       " FeatureDefinition(feature_name='n_days_since_last_purchase', feature_type=<FeatureTypeEnum.FRACTIONAL: 'Fractional'>, collection_type=None)]"
      ]
     },
     "execution_count": 98,
     "metadata": {},
     "output_type": "execute_result"
    }
   ],
   "source": [
    "order_feature_group.load_feature_definitions(data_frame = orders_data)"
   ]
  },
  {
   "cell_type": "code",
   "execution_count": 99,
   "id": "81d20b40-5d9f-4730-911b-c86861d3dc47",
   "metadata": {},
   "outputs": [
    {
     "data": {
      "text/plain": [
       "{'FeatureGroupArn': 'arn:aws:sagemaker:us-east-1:640168443051:feature-group/customers-fg-31-15-07-28',\n",
       " 'ResponseMetadata': {'RequestId': 'd3f71e4d-c150-42f3-876a-6bcb66e07896',\n",
       "  'HTTPStatusCode': 200,\n",
       "  'HTTPHeaders': {'x-amzn-requestid': 'd3f71e4d-c150-42f3-876a-6bcb66e07896',\n",
       "   'content-type': 'application/x-amz-json-1.1',\n",
       "   'content-length': '101',\n",
       "   'date': 'Sat, 31 May 2025 15:07:29 GMT'},\n",
       "  'RetryAttempts': 0}}"
      ]
     },
     "execution_count": 99,
     "metadata": {},
     "output_type": "execute_result"
    }
   ],
   "source": [
    "customer_feature_group.create(s3_uri = f\"s3://{s3_bucket_name}/{prefix}\",\n",
    "                               record_identifier_name=record_identifier_feature_name, event_time_feature_name=\"event_time\",\n",
    "                                role_arn=role,\n",
    "                                enable_online_store=True)"
   ]
  },
  {
   "cell_type": "code",
   "execution_count": 100,
   "id": "81c9855e-1cb9-40a2-9a4f-84ff30cbed41",
   "metadata": {},
   "outputs": [
    {
     "data": {
      "text/plain": [
       "{'FeatureGroupArn': 'arn:aws:sagemaker:us-east-1:640168443051:feature-group/orders-fg-31-15-07-28',\n",
       " 'ResponseMetadata': {'RequestId': '8d01f156-eb79-419f-8290-f859cb9bdce8',\n",
       "  'HTTPStatusCode': 200,\n",
       "  'HTTPHeaders': {'x-amzn-requestid': '8d01f156-eb79-419f-8290-f859cb9bdce8',\n",
       "   'content-type': 'application/x-amz-json-1.1',\n",
       "   'content-length': '98',\n",
       "   'date': 'Sat, 31 May 2025 15:07:30 GMT'},\n",
       "  'RetryAttempts': 1}}"
      ]
     },
     "execution_count": 100,
     "metadata": {},
     "output_type": "execute_result"
    }
   ],
   "source": [
    "order_feature_group.create(s3_uri = f\"s3://{s3_bucket_name}/{prefix}\",\n",
    "                               record_identifier_name=record_identifier_feature_name, event_time_feature_name=\"event_time\",\n",
    "                                role_arn=role,\n",
    "                                enable_online_store=True)"
   ]
  },
  {
   "cell_type": "code",
   "execution_count": 101,
   "id": "7fbb6323-2bcb-4a7f-b742-65cf33cea099",
   "metadata": {},
   "outputs": [
    {
     "data": {
      "text/plain": [
       "{'FeatureGroupArn': 'arn:aws:sagemaker:us-east-1:640168443051:feature-group/customers-fg-31-15-07-28',\n",
       " 'FeatureGroupName': 'customers-fg-31-15-07-28',\n",
       " 'RecordIdentifierFeatureName': 'customer_id',\n",
       " 'EventTimeFeatureName': 'event_time',\n",
       " 'FeatureDefinitions': [{'FeatureName': 'customer_id',\n",
       "   'FeatureType': 'String'},\n",
       "  {'FeatureName': 'sex', 'FeatureType': 'Integral'},\n",
       "  {'FeatureName': 'is_married', 'FeatureType': 'Integral'},\n",
       "  {'FeatureName': 'event_time', 'FeatureType': 'String'},\n",
       "  {'FeatureName': 'age_18-29', 'FeatureType': 'Integral'},\n",
       "  {'FeatureName': 'age_30-39', 'FeatureType': 'Integral'},\n",
       "  {'FeatureName': 'age_40-49', 'FeatureType': 'Integral'},\n",
       "  {'FeatureName': 'age_50-59', 'FeatureType': 'Integral'},\n",
       "  {'FeatureName': 'age_60-69', 'FeatureType': 'Integral'},\n",
       "  {'FeatureName': 'age_70-plus', 'FeatureType': 'Integral'},\n",
       "  {'FeatureName': 'n_days_active', 'FeatureType': 'Fractional'}],\n",
       " 'CreationTime': datetime.datetime(2025, 5, 31, 15, 7, 28, 601000, tzinfo=tzlocal()),\n",
       " 'OnlineStoreConfig': {'EnableOnlineStore': True},\n",
       " 'OfflineStoreConfig': {'S3StorageConfig': {'S3Uri': 's3://mybacket05/feature_store_aws',\n",
       "   'ResolvedOutputS3Uri': 's3://mybacket05/feature_store_aws/640168443051/sagemaker/us-east-1/offline-store/customers-fg-31-15-07-28-1748704048/data'},\n",
       "  'DisableGlueTableCreation': False},\n",
       " 'ThroughputConfig': {'ThroughputMode': 'OnDemand'},\n",
       " 'RoleArn': 'arn:aws:iam::640168443051:role/service-role/AmazonSageMaker-ExecutionRole-20250523T211400',\n",
       " 'FeatureGroupStatus': 'Creating',\n",
       " 'ResponseMetadata': {'RequestId': '8cca775a-dc9f-4848-aac1-c7596bab8e0f',\n",
       "  'HTTPStatusCode': 200,\n",
       "  'HTTPHeaders': {'x-amzn-requestid': '8cca775a-dc9f-4848-aac1-c7596bab8e0f',\n",
       "   'content-type': 'application/x-amz-json-1.1',\n",
       "   'content-length': '1828',\n",
       "   'date': 'Sat, 31 May 2025 15:07:30 GMT'},\n",
       "  'RetryAttempts': 0}}"
      ]
     },
     "execution_count": 101,
     "metadata": {},
     "output_type": "execute_result"
    }
   ],
   "source": [
    "customer_feature_group.describe()"
   ]
  },
  {
   "cell_type": "code",
   "execution_count": 102,
   "id": "dc267e3d-485e-49d4-8160-83b4c3a6f19c",
   "metadata": {},
   "outputs": [
    {
     "data": {
      "text/plain": [
       "{'FeatureGroupArn': 'arn:aws:sagemaker:us-east-1:640168443051:feature-group/orders-fg-31-15-07-28',\n",
       " 'FeatureGroupName': 'orders-fg-31-15-07-28',\n",
       " 'RecordIdentifierFeatureName': 'customer_id',\n",
       " 'EventTimeFeatureName': 'event_time',\n",
       " 'FeatureDefinitions': [{'FeatureName': 'order_id', 'FeatureType': 'String'},\n",
       "  {'FeatureName': 'customer_id', 'FeatureType': 'String'},\n",
       "  {'FeatureName': 'product_id', 'FeatureType': 'String'},\n",
       "  {'FeatureName': 'purchase_amount', 'FeatureType': 'Fractional'},\n",
       "  {'FeatureName': 'is_reordered', 'FeatureType': 'Integral'},\n",
       "  {'FeatureName': 'event_time', 'FeatureType': 'String'},\n",
       "  {'FeatureName': 'n_days_since_last_purchase', 'FeatureType': 'Fractional'}],\n",
       " 'CreationTime': datetime.datetime(2025, 5, 31, 15, 7, 30, 320000, tzinfo=tzlocal()),\n",
       " 'OnlineStoreConfig': {'EnableOnlineStore': True},\n",
       " 'OfflineStoreConfig': {'S3StorageConfig': {'S3Uri': 's3://mybacket05/feature_store_aws',\n",
       "   'ResolvedOutputS3Uri': 's3://mybacket05/feature_store_aws/640168443051/sagemaker/us-east-1/offline-store/orders-fg-31-15-07-28-1748704050/data'},\n",
       "  'DisableGlueTableCreation': False},\n",
       " 'ThroughputConfig': {'ThroughputMode': 'OnDemand'},\n",
       " 'RoleArn': 'arn:aws:iam::640168443051:role/service-role/AmazonSageMaker-ExecutionRole-20250523T211400',\n",
       " 'FeatureGroupStatus': 'Creating',\n",
       " 'ResponseMetadata': {'RequestId': '8844c6d5-08e7-4bee-9c48-088a66169562',\n",
       "  'HTTPStatusCode': 200,\n",
       "  'HTTPHeaders': {'x-amzn-requestid': '8844c6d5-08e7-4bee-9c48-088a66169562',\n",
       "   'content-type': 'application/x-amz-json-1.1',\n",
       "   'content-length': '1604',\n",
       "   'date': 'Sat, 31 May 2025 15:07:31 GMT'},\n",
       "  'RetryAttempts': 0}}"
      ]
     },
     "execution_count": 102,
     "metadata": {},
     "output_type": "execute_result"
    }
   ],
   "source": [
    "order_feature_group.describe()"
   ]
  },
  {
   "cell_type": "markdown",
   "id": "3f3e952a-b483-48e3-851f-50119c39814f",
   "metadata": {},
   "source": [
    "# Add metadata to a feature\n",
    "# description and parameters"
   ]
  },
  {
   "cell_type": "code",
   "execution_count": 104,
   "id": "8555f611-10c8-4f27-bde0-24a46ed76e21",
   "metadata": {},
   "outputs": [
    {
     "data": {
      "text/plain": [
       "{'ResponseMetadata': {'RequestId': 'c0229e72-d149-4a6e-8cc7-2a2c382648b1',\n",
       "  'HTTPStatusCode': 200,\n",
       "  'HTTPHeaders': {'x-amzn-requestid': 'c0229e72-d149-4a6e-8cc7-2a2c382648b1',\n",
       "   'content-type': 'application/x-amz-json-1.1',\n",
       "   'date': 'Sat, 31 May 2025 15:07:55 GMT',\n",
       "   'content-length': '0'},\n",
       "  'RetryAttempts': 0}}"
      ]
     },
     "execution_count": 104,
     "metadata": {},
     "output_type": "execute_result"
    }
   ],
   "source": [
    "from sagemaker.feature_store.inputs import FeatureParameter\n",
    "\n",
    "customer_feature_group.update_feature_metadata(feature_name = \"customer_id\", description= \"The ID of the customer, it is also part of Order feature group\",\n",
    "                                                parameter_additions=[FeatureParameter(\"idType\",\"primarykey\")])"
   ]
  },
  {
   "cell_type": "code",
   "execution_count": 105,
   "id": "6380bfda-10b0-4002-adbf-00ffb77e0823",
   "metadata": {},
   "outputs": [
    {
     "data": {
      "text/plain": [
       "{'FeatureGroupArn': 'arn:aws:sagemaker:us-east-1:640168443051:feature-group/customers-fg-31-15-07-28',\n",
       " 'FeatureGroupName': 'customers-fg-31-15-07-28',\n",
       " 'FeatureName': 'customer_id',\n",
       " 'FeatureType': 'String',\n",
       " 'CreationTime': datetime.datetime(2025, 5, 31, 15, 7, 28, 601000, tzinfo=tzlocal()),\n",
       " 'LastModifiedTime': datetime.datetime(2025, 5, 31, 15, 7, 55, 137000, tzinfo=tzlocal()),\n",
       " 'Description': 'The ID of the customer, it is also part of Order feature group',\n",
       " 'Parameters': [{'Key': 'idType', 'Value': 'primarykey'}],\n",
       " 'ResponseMetadata': {'RequestId': 'd5a79eab-5e08-47e5-b782-dfce4eece072',\n",
       "  'HTTPStatusCode': 200,\n",
       "  'HTTPHeaders': {'x-amzn-requestid': 'd5a79eab-5e08-47e5-b782-dfce4eece072',\n",
       "   'content-type': 'application/x-amz-json-1.1',\n",
       "   'content-length': '398',\n",
       "   'date': 'Sat, 31 May 2025 15:07:58 GMT'},\n",
       "  'RetryAttempts': 0}}"
      ]
     },
     "execution_count": 105,
     "metadata": {},
     "output_type": "execute_result"
    }
   ],
   "source": [
    "customer_feature_group.describe_feature_metadata(\"customer_id\")"
   ]
  },
  {
   "cell_type": "code",
   "execution_count": 106,
   "id": "3ddc192d-c9b6-41ce-ac10-8eb76ca906fb",
   "metadata": {},
   "outputs": [
    {
     "data": {
      "text/plain": [
       "{'Results': [{'FeatureMetadata': {'FeatureGroupArn': 'arn:aws:sagemaker:us-east-1:640168443051:feature-group/customers-fg-31-15-07-28',\n",
       "    'FeatureGroupName': 'customers-fg-31-15-07-28',\n",
       "    'FeatureName': 'customer_id',\n",
       "    'FeatureType': 'String',\n",
       "    'CreationTime': datetime.datetime(2025, 5, 31, 15, 7, 28, tzinfo=tzlocal()),\n",
       "    'LastModifiedTime': datetime.datetime(2025, 5, 31, 15, 7, 55, tzinfo=tzlocal()),\n",
       "    'Description': 'The ID of the customer, it is also part of Order feature group',\n",
       "    'Parameters': [{'Key': 'idType', 'Value': 'primarykey'}]}},\n",
       "  {'FeatureMetadata': {'FeatureGroupArn': 'arn:aws:sagemaker:us-east-1:640168443051:feature-group/customers-fg-31-14-44-16',\n",
       "    'FeatureGroupName': 'customers-fg-31-14-44-16',\n",
       "    'FeatureName': 'customer_id',\n",
       "    'FeatureType': 'String',\n",
       "    'CreationTime': datetime.datetime(2025, 5, 31, 14, 44, 16, tzinfo=tzlocal()),\n",
       "    'LastModifiedTime': datetime.datetime(2025, 5, 31, 14, 44, 41, tzinfo=tzlocal()),\n",
       "    'Description': 'The ID of the customer, it is also part of Order feature group',\n",
       "    'Parameters': [{'Key': 'idType', 'Value': 'primarykey'}]}},\n",
       "  {'FeatureMetadata': {'FeatureGroupArn': 'arn:aws:sagemaker:us-east-1:640168443051:feature-group/customers-fg-31-14-12-32',\n",
       "    'FeatureGroupName': 'customers-fg-31-14-12-32',\n",
       "    'FeatureName': 'customer_id',\n",
       "    'FeatureType': 'String',\n",
       "    'CreationTime': datetime.datetime(2025, 5, 31, 14, 12, 32, tzinfo=tzlocal()),\n",
       "    'LastModifiedTime': datetime.datetime(2025, 5, 31, 14, 13, 6, tzinfo=tzlocal()),\n",
       "    'Description': 'The ID of the customer, it is also part of Order feature group',\n",
       "    'Parameters': [{'Key': 'idType', 'Value': 'primarykey'}]}},\n",
       "  {'FeatureMetadata': {'FeatureGroupArn': 'arn:aws:sagemaker:us-east-1:640168443051:feature-group/customers-fg-31-13-59-00',\n",
       "    'FeatureGroupName': 'customers-fg-31-13-59-00',\n",
       "    'FeatureName': 'customer_id',\n",
       "    'FeatureType': 'String',\n",
       "    'CreationTime': datetime.datetime(2025, 5, 31, 13, 59, tzinfo=tzlocal()),\n",
       "    'LastModifiedTime': datetime.datetime(2025, 5, 31, 14, 0, 57, tzinfo=tzlocal()),\n",
       "    'Description': 'The ID of the customer, it is also part of Order feature group',\n",
       "    'Parameters': [{'Key': 'idType', 'Value': 'primarykey'}]}},\n",
       "  {'FeatureMetadata': {'FeatureGroupArn': 'arn:aws:sagemaker:us-east-1:640168443051:feature-group/customers-fg-31-12-54-01',\n",
       "    'FeatureGroupName': 'customers-fg-31-12-54-01',\n",
       "    'FeatureName': 'customer_id',\n",
       "    'FeatureType': 'String',\n",
       "    'CreationTime': datetime.datetime(2025, 5, 31, 13, 3, 39, tzinfo=tzlocal()),\n",
       "    'LastModifiedTime': datetime.datetime(2025, 5, 31, 13, 17, 36, tzinfo=tzlocal()),\n",
       "    'Description': 'The ID of the customer, it is also part of Order feature group',\n",
       "    'Parameters': [{'Key': 'idType', 'Value': 'primarykey'}]}}],\n",
       " 'ResponseMetadata': {'RequestId': '7d466fb1-85ee-4891-9f60-52be384748f1',\n",
       "  'HTTPStatusCode': 200,\n",
       "  'HTTPHeaders': {'x-amzn-requestid': '7d466fb1-85ee-4891-9f60-52be384748f1',\n",
       "   'content-type': 'application/x-amz-json-1.1',\n",
       "   'content-length': '2302',\n",
       "   'date': 'Sat, 31 May 2025 15:08:00 GMT'},\n",
       "  'RetryAttempts': 0}}"
      ]
     },
     "execution_count": 106,
     "metadata": {},
     "output_type": "execute_result"
    }
   ],
   "source": [
    "sagemaker_session.boto_session.client(\"sagemaker\", region_name=region).search(\n",
    "    Resource=\"FeatureMetadata\",\n",
    "    SearchExpression={\n",
    "        \"Filters\":[\n",
    "            {\n",
    "                \"Name\": \"FeatureGroupName\",\n",
    "                \"Operator\": \"Contains\",\n",
    "                \"Value\": \"customers-fg\"\n",
    "            },\n",
    "            {\"Name\": \"Parameters.idType\", \"Operator\": \"Equals\", \"Value\": \"primarykey\"}\n",
    "        ]\n",
    "    })"
   ]
  },
  {
   "cell_type": "markdown",
   "id": "ee0710b4-5dfa-4cf8-b923-5977236766bd",
   "metadata": {},
   "source": [
    "# Ingest the data to the Feature Group"
   ]
  },
  {
   "cell_type": "code",
   "execution_count": 107,
   "id": "8cc82ca3-c13a-4ccb-bbeb-40db69922857",
   "metadata": {},
   "outputs": [
    {
     "data": {
      "text/plain": [
       "IngestionManagerPandas(feature_group_name='customers-fg-31-15-07-28', feature_definitions={'customer_id': {'FeatureName': 'customer_id', 'FeatureType': 'String'}, 'sex': {'FeatureName': 'sex', 'FeatureType': 'Integral'}, 'is_married': {'FeatureName': 'is_married', 'FeatureType': 'Integral'}, 'event_time': {'FeatureName': 'event_time', 'FeatureType': 'String'}, 'age_18-29': {'FeatureName': 'age_18-29', 'FeatureType': 'Integral'}, 'age_30-39': {'FeatureName': 'age_30-39', 'FeatureType': 'Integral'}, 'age_40-49': {'FeatureName': 'age_40-49', 'FeatureType': 'Integral'}, 'age_50-59': {'FeatureName': 'age_50-59', 'FeatureType': 'Integral'}, 'age_60-69': {'FeatureName': 'age_60-69', 'FeatureType': 'Integral'}, 'age_70-plus': {'FeatureName': 'age_70-plus', 'FeatureType': 'Integral'}, 'n_days_active': {'FeatureName': 'n_days_active', 'FeatureType': 'Fractional'}}, sagemaker_fs_runtime_client_config=<botocore.config.Config object at 0x7f00b0648a70>, sagemaker_session=<sagemaker.session.Session object at 0x7f00bcabc440>, max_workers=3, max_processes=1, profile_name=None, _async_result=<multiprocess.pool.MapResult object at 0x7f00aae3e300>, _processing_pool=<pool ProcessPool(ncpus=1)>, _failed_indices=[])"
      ]
     },
     "execution_count": 107,
     "metadata": {},
     "output_type": "execute_result"
    }
   ],
   "source": [
    "customer_feature_group.ingest(data_frame = customer_data, max_workers=3,wait=True)"
   ]
  },
  {
   "cell_type": "code",
   "execution_count": 108,
   "id": "a65c2edb-2dc6-443c-87ba-4995ca933f84",
   "metadata": {},
   "outputs": [
    {
     "data": {
      "text/plain": [
       "IngestionManagerPandas(feature_group_name='orders-fg-31-15-07-28', feature_definitions={'order_id': {'FeatureName': 'order_id', 'FeatureType': 'String'}, 'customer_id': {'FeatureName': 'customer_id', 'FeatureType': 'String'}, 'product_id': {'FeatureName': 'product_id', 'FeatureType': 'String'}, 'purchase_amount': {'FeatureName': 'purchase_amount', 'FeatureType': 'Fractional'}, 'is_reordered': {'FeatureName': 'is_reordered', 'FeatureType': 'Integral'}, 'event_time': {'FeatureName': 'event_time', 'FeatureType': 'String'}, 'n_days_since_last_purchase': {'FeatureName': 'n_days_since_last_purchase', 'FeatureType': 'Fractional'}}, sagemaker_fs_runtime_client_config=<botocore.config.Config object at 0x7f00b0648a70>, sagemaker_session=<sagemaker.session.Session object at 0x7f00bcabc440>, max_workers=3, max_processes=1, profile_name=None, _async_result=<multiprocess.pool.MapResult object at 0x7f00bc31ff50>, _processing_pool=<pool ProcessPool(ncpus=1)>, _failed_indices=[])"
      ]
     },
     "execution_count": 108,
     "metadata": {},
     "output_type": "execute_result"
    }
   ],
   "source": [
    "order_feature_group.ingest(data_frame = orders_data, max_workers=3,wait=True)"
   ]
  },
  {
   "cell_type": "code",
   "execution_count": 109,
   "id": "36668d4a-209a-4df9-b484-e802c343645b",
   "metadata": {},
   "outputs": [],
   "source": [
    "customer_id = \"C1\"\n",
    "sample_record = sagemaker_session.boto_session.client(\n",
    "    \"sagemaker-featurestore-runtime\", region_name=region\n",
    ").get_record(\n",
    "    FeatureGroupName=customers_feature_group_name, RecordIdentifierValueAsString=str(customer_id)\n",
    ")"
   ]
  },
  {
   "cell_type": "code",
   "execution_count": 110,
   "id": "c10d6ae9-20da-4412-8182-82869291a726",
   "metadata": {},
   "outputs": [
    {
     "data": {
      "text/plain": [
       "{'ResponseMetadata': {'RequestId': '24298d37-de1a-4a62-967b-879fdc13f70c',\n",
       "  'HTTPStatusCode': 200,\n",
       "  'HTTPHeaders': {'x-amzn-requestid': '24298d37-de1a-4a62-967b-879fdc13f70c',\n",
       "   'content-type': 'application/json',\n",
       "   'content-length': '877',\n",
       "   'date': 'Sat, 31 May 2025 15:19:51 GMT'},\n",
       "  'RetryAttempts': 0},\n",
       " 'Record': [{'FeatureName': 'customer_id', 'ValueAsString': 'C1'},\n",
       "  {'FeatureName': 'sex', 'ValueAsString': '0'},\n",
       "  {'FeatureName': 'is_married', 'ValueAsString': '1'},\n",
       "  {'FeatureName': 'event_time', 'ValueAsString': '2024-05-02T05:39:10.965Z'},\n",
       "  {'FeatureName': 'age_18-29', 'ValueAsString': '0'},\n",
       "  {'FeatureName': 'age_30-39', 'ValueAsString': '0'},\n",
       "  {'FeatureName': 'age_40-49', 'ValueAsString': '0'},\n",
       "  {'FeatureName': 'age_50-59', 'ValueAsString': '0'},\n",
       "  {'FeatureName': 'age_60-69', 'ValueAsString': '0'},\n",
       "  {'FeatureName': 'age_70-plus', 'ValueAsString': '1'},\n",
       "  {'FeatureName': 'n_days_active', 'ValueAsString': '0.2034246575342466'}]}"
      ]
     },
     "execution_count": 110,
     "metadata": {},
     "output_type": "execute_result"
    }
   ],
   "source": [
    "sample_record"
   ]
  },
  {
   "cell_type": "code",
   "execution_count": 111,
   "id": "c85d61ac-72c4-4727-add1-04e689a6ed85",
   "metadata": {},
   "outputs": [],
   "source": [
    "all_records = sagemaker_session.boto_session.client(\n",
    "    \"sagemaker-featurestore-runtime\", region_name=region\n",
    ").batch_get_record(\n",
    "    Identifiers=[\n",
    "        {\n",
    "            \"FeatureGroupName\": customers_feature_group_name,\n",
    "            \"RecordIdentifiersValueAsString\": [\"C1\",\"C2\"],\n",
    "        },\n",
    "        {\n",
    "            \"FeatureGroupName\": orders_feature_group_name,\n",
    "            \"RecordIdentifiersValueAsString\": [\"C1\",\"C2\"],\n",
    "        },\n",
    "    ]\n",
    ")"
   ]
  },
  {
   "cell_type": "code",
   "execution_count": 112,
   "id": "e8067cc1-16a9-46e0-b397-eebc2a3cc575",
   "metadata": {},
   "outputs": [
    {
     "data": {
      "text/plain": [
       "{'ResponseMetadata': {'RequestId': '8d4ad708-3241-4e8b-acd5-e5358b702fdd',\n",
       "  'HTTPStatusCode': 200,\n",
       "  'HTTPHeaders': {'x-amzn-requestid': '8d4ad708-3241-4e8b-acd5-e5358b702fdd',\n",
       "   'content-type': 'application/json',\n",
       "   'content-length': '3408',\n",
       "   'date': 'Sat, 31 May 2025 15:19:57 GMT'},\n",
       "  'RetryAttempts': 0},\n",
       " 'Records': [{'FeatureGroupName': 'customers-fg-31-15-07-28',\n",
       "   'RecordIdentifierValueAsString': 'C1',\n",
       "   'Record': [{'FeatureName': 'customer_id', 'ValueAsString': 'C1'},\n",
       "    {'FeatureName': 'sex', 'ValueAsString': '0'},\n",
       "    {'FeatureName': 'is_married', 'ValueAsString': '1'},\n",
       "    {'FeatureName': 'event_time', 'ValueAsString': '2024-05-02T05:39:10.965Z'},\n",
       "    {'FeatureName': 'age_18-29', 'ValueAsString': '0'},\n",
       "    {'FeatureName': 'age_30-39', 'ValueAsString': '0'},\n",
       "    {'FeatureName': 'age_40-49', 'ValueAsString': '0'},\n",
       "    {'FeatureName': 'age_50-59', 'ValueAsString': '0'},\n",
       "    {'FeatureName': 'age_60-69', 'ValueAsString': '0'},\n",
       "    {'FeatureName': 'age_70-plus', 'ValueAsString': '1'},\n",
       "    {'FeatureName': 'n_days_active', 'ValueAsString': '0.2034246575342466'}]},\n",
       "  {'FeatureGroupName': 'customers-fg-31-15-07-28',\n",
       "   'RecordIdentifierValueAsString': 'C2',\n",
       "   'Record': [{'FeatureName': 'customer_id', 'ValueAsString': 'C2'},\n",
       "    {'FeatureName': 'sex', 'ValueAsString': '1'},\n",
       "    {'FeatureName': 'is_married', 'ValueAsString': '1'},\n",
       "    {'FeatureName': 'event_time', 'ValueAsString': '2024-05-02T05:39:10.966Z'},\n",
       "    {'FeatureName': 'age_18-29', 'ValueAsString': '0'},\n",
       "    {'FeatureName': 'age_30-39', 'ValueAsString': '0'},\n",
       "    {'FeatureName': 'age_40-49', 'ValueAsString': '0'},\n",
       "    {'FeatureName': 'age_50-59', 'ValueAsString': '0'},\n",
       "    {'FeatureName': 'age_60-69', 'ValueAsString': '0'},\n",
       "    {'FeatureName': 'age_70-plus', 'ValueAsString': '1'},\n",
       "    {'FeatureName': 'n_days_active', 'ValueAsString': '0.8595890410958904'}]},\n",
       "  {'FeatureGroupName': 'orders-fg-31-15-07-28',\n",
       "   'RecordIdentifierValueAsString': 'C1',\n",
       "   'Record': [{'FeatureName': 'order_id', 'ValueAsString': 'O99056'},\n",
       "    {'FeatureName': 'customer_id', 'ValueAsString': 'C1'},\n",
       "    {'FeatureName': 'product_id', 'ValueAsString': 'P5567'},\n",
       "    {'FeatureName': 'purchase_amount', 'ValueAsString': '0.6516831683168316'},\n",
       "    {'FeatureName': 'is_reordered', 'ValueAsString': '1'},\n",
       "    {'FeatureName': 'event_time', 'ValueAsString': '2024-05-02T05:39:18.632Z'},\n",
       "    {'FeatureName': 'n_days_since_last_purchase',\n",
       "     'ValueAsString': '0.5484496124031004'}]},\n",
       "  {'FeatureGroupName': 'orders-fg-31-15-07-28',\n",
       "   'RecordIdentifierValueAsString': 'C2',\n",
       "   'Record': [{'FeatureName': 'order_id', 'ValueAsString': 'O69355'},\n",
       "    {'FeatureName': 'customer_id', 'ValueAsString': 'C2'},\n",
       "    {'FeatureName': 'product_id', 'ValueAsString': 'P7251'},\n",
       "    {'FeatureName': 'purchase_amount', 'ValueAsString': '0.921881188118812'},\n",
       "    {'FeatureName': 'is_reordered', 'ValueAsString': '1'},\n",
       "    {'FeatureName': 'event_time', 'ValueAsString': '2024-05-02T05:39:18.203Z'},\n",
       "    {'FeatureName': 'n_days_since_last_purchase',\n",
       "     'ValueAsString': '0.9593023255813952'}]}],\n",
       " 'Errors': [],\n",
       " 'UnprocessedIdentifiers': []}"
      ]
     },
     "execution_count": 112,
     "metadata": {},
     "output_type": "execute_result"
    }
   ],
   "source": [
    "all_records"
   ]
  },
  {
   "cell_type": "code",
   "execution_count": 113,
   "id": "78c3d4b4-38cb-4f7e-9d3e-5e702aee486e",
   "metadata": {},
   "outputs": [
    {
     "data": {
      "text/plain": [
       "{'FeatureGroupArn': 'arn:aws:sagemaker:us-east-1:640168443051:feature-group/customers-fg-31-15-07-28',\n",
       " 'ResponseMetadata': {'RequestId': '8742ecec-e3ba-4098-949d-9665049cc405',\n",
       "  'HTTPStatusCode': 200,\n",
       "  'HTTPHeaders': {'x-amzn-requestid': '8742ecec-e3ba-4098-949d-9665049cc405',\n",
       "   'content-type': 'application/x-amz-json-1.1',\n",
       "   'content-length': '101',\n",
       "   'date': 'Sat, 31 May 2025 15:20:03 GMT'},\n",
       "  'RetryAttempts': 0}}"
      ]
     },
     "execution_count": 113,
     "metadata": {},
     "output_type": "execute_result"
    }
   ],
   "source": [
    "from sagemaker.feature_store.feature_definition import StringFeatureDefinition\n",
    "\n",
    "customer_feature_group.update(feature_additions=[StringFeatureDefinition(\"email\")])"
   ]
  },
  {
   "cell_type": "code",
   "execution_count": 114,
   "id": "e58b5343-dced-4a36-a14d-14c4ce215eca",
   "metadata": {},
   "outputs": [
    {
     "data": {
      "text/plain": [
       "{'FeatureGroupArn': 'arn:aws:sagemaker:us-east-1:640168443051:feature-group/customers-fg-31-15-07-28',\n",
       " 'FeatureGroupName': 'customers-fg-31-15-07-28',\n",
       " 'RecordIdentifierFeatureName': 'customer_id',\n",
       " 'EventTimeFeatureName': 'event_time',\n",
       " 'FeatureDefinitions': [{'FeatureName': 'customer_id',\n",
       "   'FeatureType': 'String'},\n",
       "  {'FeatureName': 'sex', 'FeatureType': 'Integral'},\n",
       "  {'FeatureName': 'is_married', 'FeatureType': 'Integral'},\n",
       "  {'FeatureName': 'event_time', 'FeatureType': 'String'},\n",
       "  {'FeatureName': 'age_18-29', 'FeatureType': 'Integral'},\n",
       "  {'FeatureName': 'age_30-39', 'FeatureType': 'Integral'},\n",
       "  {'FeatureName': 'age_40-49', 'FeatureType': 'Integral'},\n",
       "  {'FeatureName': 'age_50-59', 'FeatureType': 'Integral'},\n",
       "  {'FeatureName': 'age_60-69', 'FeatureType': 'Integral'},\n",
       "  {'FeatureName': 'age_70-plus', 'FeatureType': 'Integral'},\n",
       "  {'FeatureName': 'n_days_active', 'FeatureType': 'Fractional'}],\n",
       " 'CreationTime': datetime.datetime(2025, 5, 31, 15, 7, 28, 601000, tzinfo=tzlocal()),\n",
       " 'LastModifiedTime': datetime.datetime(2025, 5, 31, 15, 20, 3, 21000, tzinfo=tzlocal()),\n",
       " 'OnlineStoreConfig': {'EnableOnlineStore': True},\n",
       " 'OfflineStoreConfig': {'S3StorageConfig': {'S3Uri': 's3://mybacket05/feature_store_aws',\n",
       "   'ResolvedOutputS3Uri': 's3://mybacket05/feature_store_aws/640168443051/sagemaker/us-east-1/offline-store/customers-fg-31-15-07-28-1748704048/data'},\n",
       "  'DisableGlueTableCreation': False,\n",
       "  'DataCatalogConfig': {'TableName': 'customers_fg_31_15_07_28_1748704048',\n",
       "   'Catalog': 'AwsDataCatalog',\n",
       "   'Database': 'sagemaker_featurestore'}},\n",
       " 'ThroughputConfig': {'ThroughputMode': 'OnDemand'},\n",
       " 'RoleArn': 'arn:aws:iam::640168443051:role/service-role/AmazonSageMaker-ExecutionRole-20250523T211400',\n",
       " 'FeatureGroupStatus': 'Created',\n",
       " 'OfflineStoreStatus': {'Status': 'Active'},\n",
       " 'LastUpdateStatus': {'Status': 'InProgress'},\n",
       " 'OnlineStoreTotalSizeBytes': 0,\n",
       " 'ResponseMetadata': {'RequestId': '91905563-fa11-4efd-8b21-f35b4ad00f45',\n",
       "  'HTTPStatusCode': 200,\n",
       "  'HTTPHeaders': {'x-amzn-requestid': '91905563-fa11-4efd-8b21-f35b4ad00f45',\n",
       "   'content-type': 'application/x-amz-json-1.1',\n",
       "   'content-length': '2142',\n",
       "   'date': 'Sat, 31 May 2025 15:20:05 GMT'},\n",
       "  'RetryAttempts': 0}}"
      ]
     },
     "execution_count": 114,
     "metadata": {},
     "output_type": "execute_result"
    }
   ],
   "source": [
    "customer_feature_group.describe()"
   ]
  },
  {
   "cell_type": "markdown",
   "id": "d0be5d19-7e4a-4159-b065-3f297718521a",
   "metadata": {},
   "source": [
    "# Updated Customers Data"
   ]
  },
  {
   "cell_type": "code",
   "execution_count": 115,
   "id": "427e9a1c-f0f3-435d-86cd-90a1be13d584",
   "metadata": {},
   "outputs": [],
   "source": [
    "df_up=pd.read_csv(\"https://raw.githubusercontent.com/manifoldailearning/mlops-with-aws-datascientists/refs/heads/main/Section-13.1-Feature-Store/transformed/customers_updated.csv\")"
   ]
  },
  {
   "cell_type": "code",
   "execution_count": 116,
   "id": "09ac8a77-6050-4371-85ae-a3037432098b",
   "metadata": {},
   "outputs": [
    {
     "data": {
      "text/html": [
       "<div>\n",
       "<style scoped>\n",
       "    .dataframe tbody tr th:only-of-type {\n",
       "        vertical-align: middle;\n",
       "    }\n",
       "\n",
       "    .dataframe tbody tr th {\n",
       "        vertical-align: top;\n",
       "    }\n",
       "\n",
       "    .dataframe thead th {\n",
       "        text-align: right;\n",
       "    }\n",
       "</style>\n",
       "<table border=\"1\" class=\"dataframe\">\n",
       "  <thead>\n",
       "    <tr style=\"text-align: right;\">\n",
       "      <th></th>\n",
       "      <th>customer_id</th>\n",
       "      <th>sex</th>\n",
       "      <th>is_married</th>\n",
       "      <th>event_time</th>\n",
       "      <th>email</th>\n",
       "      <th>age_18-29</th>\n",
       "      <th>age_30-39</th>\n",
       "      <th>age_40-49</th>\n",
       "      <th>age_50-59</th>\n",
       "      <th>age_60-69</th>\n",
       "      <th>age_70-plus</th>\n",
       "      <th>n_days_active</th>\n",
       "    </tr>\n",
       "  </thead>\n",
       "  <tbody>\n",
       "    <tr>\n",
       "      <th>0</th>\n",
       "      <td>C10001</td>\n",
       "      <td>0</td>\n",
       "      <td>1</td>\n",
       "      <td>2024-05-02T13:43:28.295Z</td>\n",
       "      <td>kennethday@example.net</td>\n",
       "      <td>0</td>\n",
       "      <td>0</td>\n",
       "      <td>0</td>\n",
       "      <td>0</td>\n",
       "      <td>0</td>\n",
       "      <td>1</td>\n",
       "      <td>0.345890</td>\n",
       "    </tr>\n",
       "    <tr>\n",
       "      <th>1</th>\n",
       "      <td>C10002</td>\n",
       "      <td>0</td>\n",
       "      <td>1</td>\n",
       "      <td>2024-05-02T13:43:28.296Z</td>\n",
       "      <td>smelendez@example.org</td>\n",
       "      <td>0</td>\n",
       "      <td>0</td>\n",
       "      <td>0</td>\n",
       "      <td>0</td>\n",
       "      <td>0</td>\n",
       "      <td>1</td>\n",
       "      <td>0.884247</td>\n",
       "    </tr>\n",
       "    <tr>\n",
       "      <th>2</th>\n",
       "      <td>C10003</td>\n",
       "      <td>1</td>\n",
       "      <td>0</td>\n",
       "      <td>2024-05-02T13:43:28.298Z</td>\n",
       "      <td>brianperry@example.net</td>\n",
       "      <td>0</td>\n",
       "      <td>1</td>\n",
       "      <td>0</td>\n",
       "      <td>0</td>\n",
       "      <td>0</td>\n",
       "      <td>0</td>\n",
       "      <td>0.734247</td>\n",
       "    </tr>\n",
       "    <tr>\n",
       "      <th>3</th>\n",
       "      <td>C10004</td>\n",
       "      <td>0</td>\n",
       "      <td>0</td>\n",
       "      <td>2024-05-02T13:43:28.300Z</td>\n",
       "      <td>alyssamorgan@example.net</td>\n",
       "      <td>0</td>\n",
       "      <td>0</td>\n",
       "      <td>0</td>\n",
       "      <td>0</td>\n",
       "      <td>1</td>\n",
       "      <td>0</td>\n",
       "      <td>0.386301</td>\n",
       "    </tr>\n",
       "    <tr>\n",
       "      <th>4</th>\n",
       "      <td>C10005</td>\n",
       "      <td>0</td>\n",
       "      <td>1</td>\n",
       "      <td>2024-05-02T13:43:28.301Z</td>\n",
       "      <td>cjenkins@example.org</td>\n",
       "      <td>0</td>\n",
       "      <td>0</td>\n",
       "      <td>0</td>\n",
       "      <td>0</td>\n",
       "      <td>1</td>\n",
       "      <td>0</td>\n",
       "      <td>0.363699</td>\n",
       "    </tr>\n",
       "  </tbody>\n",
       "</table>\n",
       "</div>"
      ],
      "text/plain": [
       "  customer_id  sex  is_married                event_time  \\\n",
       "0      C10001    0           1  2024-05-02T13:43:28.295Z   \n",
       "1      C10002    0           1  2024-05-02T13:43:28.296Z   \n",
       "2      C10003    1           0  2024-05-02T13:43:28.298Z   \n",
       "3      C10004    0           0  2024-05-02T13:43:28.300Z   \n",
       "4      C10005    0           1  2024-05-02T13:43:28.301Z   \n",
       "\n",
       "                      email  age_18-29  age_30-39  age_40-49  age_50-59  \\\n",
       "0    kennethday@example.net          0          0          0          0   \n",
       "1     smelendez@example.org          0          0          0          0   \n",
       "2    brianperry@example.net          0          1          0          0   \n",
       "3  alyssamorgan@example.net          0          0          0          0   \n",
       "4      cjenkins@example.org          0          0          0          0   \n",
       "\n",
       "   age_60-69  age_70-plus  n_days_active  \n",
       "0          0            1       0.345890  \n",
       "1          0            1       0.884247  \n",
       "2          0            0       0.734247  \n",
       "3          1            0       0.386301  \n",
       "4          1            0       0.363699  "
      ]
     },
     "execution_count": 116,
     "metadata": {},
     "output_type": "execute_result"
    }
   ],
   "source": [
    "df_up.head()"
   ]
  },
  {
   "cell_type": "code",
   "execution_count": 117,
   "id": "a1965e0e-d689-49a6-9371-c2c7f6ca2c79",
   "metadata": {},
   "outputs": [],
   "source": [
    "df_up.drop(columns=[\"email\"],axis=1,inplace=True)"
   ]
  },
  {
   "cell_type": "code",
   "execution_count": 119,
   "id": "e0235bc4-d5cc-413f-9f93-b46112324d16",
   "metadata": {},
   "outputs": [
    {
     "data": {
      "text/html": [
       "<div>\n",
       "<style scoped>\n",
       "    .dataframe tbody tr th:only-of-type {\n",
       "        vertical-align: middle;\n",
       "    }\n",
       "\n",
       "    .dataframe tbody tr th {\n",
       "        vertical-align: top;\n",
       "    }\n",
       "\n",
       "    .dataframe thead th {\n",
       "        text-align: right;\n",
       "    }\n",
       "</style>\n",
       "<table border=\"1\" class=\"dataframe\">\n",
       "  <thead>\n",
       "    <tr style=\"text-align: right;\">\n",
       "      <th></th>\n",
       "      <th>customer_id</th>\n",
       "      <th>sex</th>\n",
       "      <th>is_married</th>\n",
       "      <th>event_time</th>\n",
       "      <th>age_18-29</th>\n",
       "      <th>age_30-39</th>\n",
       "      <th>age_40-49</th>\n",
       "      <th>age_50-59</th>\n",
       "      <th>age_60-69</th>\n",
       "      <th>age_70-plus</th>\n",
       "      <th>n_days_active</th>\n",
       "    </tr>\n",
       "  </thead>\n",
       "  <tbody>\n",
       "    <tr>\n",
       "      <th>0</th>\n",
       "      <td>C10001</td>\n",
       "      <td>0</td>\n",
       "      <td>1</td>\n",
       "      <td>2024-05-02T13:43:28.295Z</td>\n",
       "      <td>0</td>\n",
       "      <td>0</td>\n",
       "      <td>0</td>\n",
       "      <td>0</td>\n",
       "      <td>0</td>\n",
       "      <td>1</td>\n",
       "      <td>0.345890</td>\n",
       "    </tr>\n",
       "    <tr>\n",
       "      <th>1</th>\n",
       "      <td>C10002</td>\n",
       "      <td>0</td>\n",
       "      <td>1</td>\n",
       "      <td>2024-05-02T13:43:28.296Z</td>\n",
       "      <td>0</td>\n",
       "      <td>0</td>\n",
       "      <td>0</td>\n",
       "      <td>0</td>\n",
       "      <td>0</td>\n",
       "      <td>1</td>\n",
       "      <td>0.884247</td>\n",
       "    </tr>\n",
       "    <tr>\n",
       "      <th>2</th>\n",
       "      <td>C10003</td>\n",
       "      <td>1</td>\n",
       "      <td>0</td>\n",
       "      <td>2024-05-02T13:43:28.298Z</td>\n",
       "      <td>0</td>\n",
       "      <td>1</td>\n",
       "      <td>0</td>\n",
       "      <td>0</td>\n",
       "      <td>0</td>\n",
       "      <td>0</td>\n",
       "      <td>0.734247</td>\n",
       "    </tr>\n",
       "    <tr>\n",
       "      <th>3</th>\n",
       "      <td>C10004</td>\n",
       "      <td>0</td>\n",
       "      <td>0</td>\n",
       "      <td>2024-05-02T13:43:28.300Z</td>\n",
       "      <td>0</td>\n",
       "      <td>0</td>\n",
       "      <td>0</td>\n",
       "      <td>0</td>\n",
       "      <td>1</td>\n",
       "      <td>0</td>\n",
       "      <td>0.386301</td>\n",
       "    </tr>\n",
       "    <tr>\n",
       "      <th>4</th>\n",
       "      <td>C10005</td>\n",
       "      <td>0</td>\n",
       "      <td>1</td>\n",
       "      <td>2024-05-02T13:43:28.301Z</td>\n",
       "      <td>0</td>\n",
       "      <td>0</td>\n",
       "      <td>0</td>\n",
       "      <td>0</td>\n",
       "      <td>1</td>\n",
       "      <td>0</td>\n",
       "      <td>0.363699</td>\n",
       "    </tr>\n",
       "  </tbody>\n",
       "</table>\n",
       "</div>"
      ],
      "text/plain": [
       "  customer_id  sex  is_married                event_time  age_18-29  \\\n",
       "0      C10001    0           1  2024-05-02T13:43:28.295Z          0   \n",
       "1      C10002    0           1  2024-05-02T13:43:28.296Z          0   \n",
       "2      C10003    1           0  2024-05-02T13:43:28.298Z          0   \n",
       "3      C10004    0           0  2024-05-02T13:43:28.300Z          0   \n",
       "4      C10005    0           1  2024-05-02T13:43:28.301Z          0   \n",
       "\n",
       "   age_30-39  age_40-49  age_50-59  age_60-69  age_70-plus  n_days_active  \n",
       "0          0          0          0          0            1       0.345890  \n",
       "1          0          0          0          0            1       0.884247  \n",
       "2          1          0          0          0            0       0.734247  \n",
       "3          0          0          0          1            0       0.386301  \n",
       "4          0          0          0          1            0       0.363699  "
      ]
     },
     "execution_count": 119,
     "metadata": {},
     "output_type": "execute_result"
    }
   ],
   "source": [
    "df_up.head()"
   ]
  },
  {
   "cell_type": "code",
   "execution_count": 118,
   "id": "5b28f574-8475-4000-b5c0-5ea7efe4060b",
   "metadata": {},
   "outputs": [
    {
     "data": {
      "text/html": [
       "<div>\n",
       "<style scoped>\n",
       "    .dataframe tbody tr th:only-of-type {\n",
       "        vertical-align: middle;\n",
       "    }\n",
       "\n",
       "    .dataframe tbody tr th {\n",
       "        vertical-align: top;\n",
       "    }\n",
       "\n",
       "    .dataframe thead th {\n",
       "        text-align: right;\n",
       "    }\n",
       "</style>\n",
       "<table border=\"1\" class=\"dataframe\">\n",
       "  <thead>\n",
       "    <tr style=\"text-align: right;\">\n",
       "      <th></th>\n",
       "      <th>customer_id</th>\n",
       "      <th>sex</th>\n",
       "      <th>is_married</th>\n",
       "      <th>event_time</th>\n",
       "      <th>age_18-29</th>\n",
       "      <th>age_30-39</th>\n",
       "      <th>age_40-49</th>\n",
       "      <th>age_50-59</th>\n",
       "      <th>age_60-69</th>\n",
       "      <th>age_70-plus</th>\n",
       "      <th>n_days_active</th>\n",
       "    </tr>\n",
       "  </thead>\n",
       "  <tbody>\n",
       "    <tr>\n",
       "      <th>0</th>\n",
       "      <td>C1</td>\n",
       "      <td>0</td>\n",
       "      <td>1</td>\n",
       "      <td>2024-05-02T05:39:10.965Z</td>\n",
       "      <td>0</td>\n",
       "      <td>0</td>\n",
       "      <td>0</td>\n",
       "      <td>0</td>\n",
       "      <td>0</td>\n",
       "      <td>1</td>\n",
       "      <td>0.203425</td>\n",
       "    </tr>\n",
       "    <tr>\n",
       "      <th>1</th>\n",
       "      <td>C2</td>\n",
       "      <td>1</td>\n",
       "      <td>1</td>\n",
       "      <td>2024-05-02T05:39:10.966Z</td>\n",
       "      <td>0</td>\n",
       "      <td>0</td>\n",
       "      <td>0</td>\n",
       "      <td>0</td>\n",
       "      <td>0</td>\n",
       "      <td>1</td>\n",
       "      <td>0.859589</td>\n",
       "    </tr>\n",
       "    <tr>\n",
       "      <th>2</th>\n",
       "      <td>C3</td>\n",
       "      <td>1</td>\n",
       "      <td>1</td>\n",
       "      <td>2024-05-02T05:39:10.967Z</td>\n",
       "      <td>0</td>\n",
       "      <td>1</td>\n",
       "      <td>0</td>\n",
       "      <td>0</td>\n",
       "      <td>0</td>\n",
       "      <td>0</td>\n",
       "      <td>0.527397</td>\n",
       "    </tr>\n",
       "    <tr>\n",
       "      <th>3</th>\n",
       "      <td>C4</td>\n",
       "      <td>1</td>\n",
       "      <td>0</td>\n",
       "      <td>2024-05-02T05:39:10.967Z</td>\n",
       "      <td>0</td>\n",
       "      <td>0</td>\n",
       "      <td>0</td>\n",
       "      <td>0</td>\n",
       "      <td>1</td>\n",
       "      <td>0</td>\n",
       "      <td>0.780822</td>\n",
       "    </tr>\n",
       "    <tr>\n",
       "      <th>4</th>\n",
       "      <td>C5</td>\n",
       "      <td>1</td>\n",
       "      <td>0</td>\n",
       "      <td>2024-05-02T05:39:10.968Z</td>\n",
       "      <td>0</td>\n",
       "      <td>0</td>\n",
       "      <td>0</td>\n",
       "      <td>0</td>\n",
       "      <td>1</td>\n",
       "      <td>0</td>\n",
       "      <td>0.691096</td>\n",
       "    </tr>\n",
       "  </tbody>\n",
       "</table>\n",
       "</div>"
      ],
      "text/plain": [
       "  customer_id  sex  is_married                event_time  age_18-29  \\\n",
       "0          C1    0           1  2024-05-02T05:39:10.965Z          0   \n",
       "1          C2    1           1  2024-05-02T05:39:10.966Z          0   \n",
       "2          C3    1           1  2024-05-02T05:39:10.967Z          0   \n",
       "3          C4    1           0  2024-05-02T05:39:10.967Z          0   \n",
       "4          C5    1           0  2024-05-02T05:39:10.968Z          0   \n",
       "\n",
       "   age_30-39  age_40-49  age_50-59  age_60-69  age_70-plus  n_days_active  \n",
       "0          0          0          0          0            1       0.203425  \n",
       "1          0          0          0          0            1       0.859589  \n",
       "2          1          0          0          0            0       0.527397  \n",
       "3          0          0          0          1            0       0.780822  \n",
       "4          0          0          0          1            0       0.691096  "
      ]
     },
     "execution_count": 118,
     "metadata": {},
     "output_type": "execute_result"
    }
   ],
   "source": [
    "customer_data.head()"
   ]
  },
  {
   "cell_type": "code",
   "execution_count": 120,
   "id": "0d672983-4595-4e5c-8b97-a900eba23bc2",
   "metadata": {
    "scrolled": true
   },
   "outputs": [
    {
     "data": {
      "text/plain": [
       "IngestionManagerPandas(feature_group_name='customers-fg-31-15-07-28', feature_definitions={'customer_id': {'FeatureName': 'customer_id', 'FeatureType': 'String'}, 'sex': {'FeatureName': 'sex', 'FeatureType': 'Integral'}, 'is_married': {'FeatureName': 'is_married', 'FeatureType': 'Integral'}, 'event_time': {'FeatureName': 'event_time', 'FeatureType': 'String'}, 'age_18-29': {'FeatureName': 'age_18-29', 'FeatureType': 'Integral'}, 'age_30-39': {'FeatureName': 'age_30-39', 'FeatureType': 'Integral'}, 'age_40-49': {'FeatureName': 'age_40-49', 'FeatureType': 'Integral'}, 'age_50-59': {'FeatureName': 'age_50-59', 'FeatureType': 'Integral'}, 'age_60-69': {'FeatureName': 'age_60-69', 'FeatureType': 'Integral'}, 'age_70-plus': {'FeatureName': 'age_70-plus', 'FeatureType': 'Integral'}, 'n_days_active': {'FeatureName': 'n_days_active', 'FeatureType': 'Fractional'}, 'email': {'FeatureName': 'email', 'FeatureType': 'String'}}, sagemaker_fs_runtime_client_config=<botocore.config.Config object at 0x7f00b0648a70>, sagemaker_session=<sagemaker.session.Session object at 0x7f00bcabc440>, max_workers=3, max_processes=1, profile_name=None, _async_result=<multiprocess.pool.MapResult object at 0x7f00b8cf0bc0>, _processing_pool=<pool ProcessPool(ncpus=1)>, _failed_indices=[])"
      ]
     },
     "execution_count": 120,
     "metadata": {},
     "output_type": "execute_result"
    }
   ],
   "source": [
    "customer_feature_group.ingest(data_frame = df_up, max_workers=3,wait=True)"
   ]
  },
  {
   "cell_type": "code",
   "execution_count": null,
   "id": "7e8868d1-191d-4783-9d95-affb13988bb6",
   "metadata": {},
   "outputs": [],
   "source": [
    "customer_id = \"C10001\"\n",
    "sample_record = sagemaker_session.boto_session.client(\"sagemaker-featurestore-runtime\", region_name=region\n",
    ").get_record(\n",
    "    FeatureGroupName=customer_feature_group_name, RecordIdentifierValueAsString=str(customer_id)\n",
    ")"
   ]
  },
  {
   "cell_type": "code",
   "execution_count": null,
   "id": "9f0be8cf-1b93-4d7d-b341-fc2b786cfb0e",
   "metadata": {},
   "outputs": [],
   "source": []
  },
  {
   "cell_type": "code",
   "execution_count": null,
   "id": "b7b1244f-52c8-4371-be17-21a79868e6a6",
   "metadata": {},
   "outputs": [],
   "source": []
  }
 ],
 "metadata": {
  "kernelspec": {
   "display_name": "Python 3 (ipykernel)",
   "language": "python",
   "name": "python3"
  },
  "language_info": {
   "codemirror_mode": {
    "name": "ipython",
    "version": 3
   },
   "file_extension": ".py",
   "mimetype": "text/x-python",
   "name": "python",
   "nbconvert_exporter": "python",
   "pygments_lexer": "ipython3",
   "version": "3.12.9"
  }
 },
 "nbformat": 4,
 "nbformat_minor": 5
}
